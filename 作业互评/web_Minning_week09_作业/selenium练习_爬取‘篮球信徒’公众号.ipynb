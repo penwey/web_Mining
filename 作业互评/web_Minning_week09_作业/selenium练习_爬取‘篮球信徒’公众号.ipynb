{
 "cells": [
  {
   "cell_type": "code",
   "execution_count": 1,
   "metadata": {},
   "outputs": [
    {
     "name": "stdout",
     "output_type": "stream",
     "text": [
      "{'http': 'http://60.188.77.199:3000'}\n"
     ]
    }
   ],
   "source": [
    "from bs4 import BeautifulSoup\n",
    "import requests\n",
    "import random\n",
    "\n",
    "def get_ip_list(url, headers):\n",
    " web_data = requests.get(url, headers=headers)\n",
    " soup = BeautifulSoup(web_data.text, 'lxml')\n",
    " ips = soup.find_all('tr')\n",
    " ip_list = []\n",
    " for i in range(1, len(ips)):\n",
    "  ip_info = ips[i]\n",
    "  tds = ip_info.find_all('td')\n",
    "  ip_list.append(tds[1].text + ':' + tds[2].text)\n",
    " return ip_list\n",
    "\n",
    "def get_random_ip(ip_list):\n",
    " proxy_list = []\n",
    " for ip in ip_list:\n",
    "  proxy_list.append('http://' + ip)\n",
    " proxy_ip = random.choice(proxy_list)\n",
    " proxies = {'http': proxy_ip}\n",
    " return proxies\n",
    "\n",
    "if __name__ == '__main__':\n",
    " url = 'http://www.xicidaili.com/nn/'\n",
    " headers = {\n",
    " 'User-Agent': 'Mozilla/5.0 (Windows NT 6.1; WOW64) AppleWebKit/537.17 (KHTML, like Gecko) Chrome/24.0.1312.60 Safari/537.17'\n",
    " }\n",
    " ip_list = get_ip_list(url, headers=headers)\n",
    " proxies = get_random_ip(ip_list)\n",
    " print(proxies)"
   ]
  },
  {
   "cell_type": "code",
   "execution_count": 31,
   "metadata": {},
   "outputs": [],
   "source": [
    "'''\n",
    "阿里研究院\n",
    "阿里健康\n",
    "阿里巴巴商学院\n",
    "阿里数据\n",
    "\n",
    "腾讯金融科技\n",
    "腾讯研究院\n",
    "腾讯媒体研究院\n",
    "腾讯云启研究院\n",
    "酷鹅用户研究院\n",
    "'''\n",
    "公众号 = \"篮球信徒\""
   ]
  },
  {
   "cell_type": "code",
   "execution_count": 32,
   "metadata": {},
   "outputs": [],
   "source": [
    "fn = { \"output\" : { \"公众号_htm_snippets\": \"data_raw_src/公众号_htm_snippets_{公众号}.tsv\",\n",
    "                    \"公众号_df\": \"data_raw_src/公众号_df_{公众号}.tsv\",\n",
    "                    \"公众号_xlsx\": \"data_sets/公众号_url_{公众号}.xlsx\" } \\\n",
    "      }"
   ]
  },
  {
   "cell_type": "code",
   "execution_count": 33,
   "metadata": {},
   "outputs": [],
   "source": [
    "import pandas as pd\n",
    "import numpy as np\n",
    "from lxml.html import fromstring\n",
    "import time\n",
    "from random import random\n",
    "\n",
    "# when selenium main_content is used\n",
    "# Parses an HTML document from a string constant.  Returns the root nood\n",
    "# root = fromstring(df.loc[1,\"html_snippets\"]) "
   ]
  },
  {
   "cell_type": "markdown",
   "metadata": {},
   "source": [
    "## 使用Selenium"
   ]
  },
  {
   "cell_type": "code",
   "execution_count": 34,
   "metadata": {},
   "outputs": [
    {
     "name": "stderr",
     "output_type": "stream",
     "text": [
      "C:\\ProgramData\\Anaconda3\\lib\\site-packages\\ipykernel_launcher.py:19: DeprecationWarning: use options instead of chrome_options\n"
     ]
    }
   ],
   "source": [
    "#引入selenium\n",
    "from selenium import webdriver\n",
    "from selenium.webdriver.common.desired_capabilities import DesiredCapabilities\n",
    "\n",
    "#caps=dict()\n",
    "#caps[\"pageLoadStrategy\"] = \"none\"   # Do not wait for full page load\n",
    "\n",
    "opts = webdriver.ChromeOptions()\n",
    "opts.add_argument('--no-sandbox')#解决DevToolsActivePort文件不存在的报错\n",
    "opts.add_argument('window-size=1920x3000') #指定浏览器分辨率\n",
    "opts.add_argument('--disable-gpu') #谷歌文档提到需要加上一这个属性来规避bug\n",
    "opts.add_argument('--hide-scrollbars') #隐藏滚动条, 应对些特殊页面\n",
    "#opts.add_argument('blink-settings=imagesEnabled=false') #不加载图片, 提升速度\n",
    "#opts.add_argument('--headless') #浏览器不提供可视化页面. linux下如果系统不支持可视化不加这条会启动失败\n",
    "\n",
    "opts.binary_location = r\"C:\\Program Files (x86)\\Google\\Chrome\\Application\\chrome.exe\" #\"H:\\_coding_\\Gitee\\InternetNewMedia\\CapstonePrj2016\\chromedriver.exe\"  \n",
    "\n",
    "# \"H:\\_coding_\\Gitee\\InternetNewMedia\\CapstonePrj2016\\chromedriver.exe\"  \n",
    "driver = webdriver.Chrome( chrome_options = opts) #desired_capabilities=caps,"
   ]
  },
  {
   "cell_type": "code",
   "execution_count": 35,
   "metadata": {},
   "outputs": [],
   "source": [
    "# 打开微信公众平台\n",
    "driver.get(\"https://mp.weixin.qq.com\")"
   ]
  },
  {
   "cell_type": "markdown",
   "metadata": {},
   "source": [
    "## 填表登入"
   ]
  },
  {
   "cell_type": "markdown",
   "metadata": {},
   "source": [
    "selenium 的定位方法\n",
    "* find_element_by_id &ensp;&ensp;&ensp;  根据标签id定位\n",
    "* find_element_by_name   &ensp;&ensp;&ensp; 根据标签的name定位\n",
    "* find_element_by_xpath  &ensp;&ensp;&ensp; 根据xpath定位\n",
    "* find_element_by_link_text  &ensp;&ensp;&ensp; 通过文字链接来定位元素\n",
    "* find_element_by_partial_link_text  &ensp;&ensp;&ensp;  通过文字链接来定位元素\n",
    "* find_element_by_tag_name  &ensp;&ensp;&ensp;  根据标签的名字定位\n",
    "* find_element_by_class_name  &ensp;&ensp;&ensp; 通过class name 定位\n",
    "* find_element_by_css_selector  &ensp;&ensp;&ensp;  根据元素属性来定位"
   ]
  },
  {
   "cell_type": "code",
   "execution_count": 36,
   "metadata": {},
   "outputs": [],
   "source": [
    "#填入个人的信息\n",
    "payload =  {\"account\": \"penwey@126.com\", \"password\": \"penwey336699\"}\n",
    "# payload =  {\"account\": \"NFUHacks@163.com\", \"password\": \"NFU706947580\"}\n",
    "driver.find_element_by_xpath('//div[@class=\"login__type__container login__type__container__scan\"]/a').click()"
   ]
  },
  {
   "cell_type": "markdown",
   "metadata": {},
   "source": [
    "WebDriver 常用方法：\n",
    "* clear()清楚文本\n",
    "* send_keys(values)模拟按键输入\n",
    "* click()模拟点击\n",
    "* submit模拟提交"
   ]
  },
  {
   "cell_type": "code",
   "execution_count": 37,
   "metadata": {},
   "outputs": [],
   "source": [
    "driver.find_element_by_xpath('//form[@class=\"login_form\"]//input[@name=\"account\"]').clear()\n",
    "driver.find_element_by_xpath('//form[@class=\"login_form\"]//input[@name=\"account\"]').send_keys(payload['account'])\n",
    "driver.find_element_by_xpath('//form[@class=\"login_form\"]//input[@name=\"password\"]').clear()\n",
    "driver.find_element_by_xpath('//form[@class=\"login_form\"]//input[@name=\"password\"]').send_keys(payload['password'])"
   ]
  },
  {
   "cell_type": "code",
   "execution_count": 38,
   "metadata": {},
   "outputs": [],
   "source": [
    "driver.find_element_by_xpath('//div[@class=\"login_btn_panel\"]/a').click()"
   ]
  },
  {
   "cell_type": "markdown",
   "metadata": {},
   "source": [
    "## 点选单"
   ]
  },
  {
   "cell_type": "markdown",
   "metadata": {},
   "source": [
    "其他常用方法\n",
    "* size：返回元素的尺寸\n",
    "* text：获取元素的文本\n",
    "* get_attribute：获取属性值  &ensp;&ensp;&ensp; get_attribute('innerHTML')获取元素内的全部HTML\n",
    "* is_displayed()：设置该元素用户是否可见"
   ]
  },
  {
   "cell_type": "code",
   "execution_count": 39,
   "metadata": {},
   "outputs": [
    {
     "data": {
      "text/plain": [
       "'展开'"
      ]
     },
     "execution_count": 39,
     "metadata": {},
     "output_type": "execute_result"
    }
   ],
   "source": [
    "# 展开工具栏\n",
    "element = driver.find_element_by_xpath('//a[@id=\"m_open\"]')\n",
    "element.click()\n",
    "main_content = element.get_attribute('innerHTML')\n",
    "main_content"
   ]
  },
  {
   "cell_type": "code",
   "execution_count": 40,
   "metadata": {},
   "outputs": [],
   "source": [
    "driver.execute_script(\"window.scrollTo(0,document.body.scrollHeight)\")"
   ]
  },
  {
   "cell_type": "code",
   "execution_count": 41,
   "metadata": {},
   "outputs": [
    {
     "data": {
      "text/plain": [
       "'https://mp.weixin.qq.com/cgi-bin/appmsg?begin=0&count=10&t=media/appmsg_list&type=10&action=list&token=1453504043&lang=zh_CN'"
      ]
     },
     "execution_count": 41,
     "metadata": {},
     "output_type": "execute_result"
    }
   ],
   "source": [
    "# 获取“素材管理连接”\n",
    "element = driver.find_element_by_xpath('//li[@title[contains(.,\"素材管理\")]]/a') \n",
    "# main_content = element.get_attribute('innerHTML')\n",
    "# main_content\n",
    "url2= element.get_attribute(\"href\")\n",
    "url2"
   ]
  },
  {
   "cell_type": "code",
   "execution_count": 42,
   "metadata": {},
   "outputs": [],
   "source": [
    "# 打开素材管理界面，\n",
    "driver.get(url2)"
   ]
  },
  {
   "cell_type": "markdown",
   "metadata": {},
   "source": [
    "## 新建图文消息"
   ]
  },
  {
   "cell_type": "code",
   "execution_count": 43,
   "metadata": {},
   "outputs": [],
   "source": [
    "# 新建图文信息\n",
    "element = driver.find_element_by_xpath('//*[text()[contains(.,\"新建图文消息\")]]') \n",
    "main_content = element.get_attribute('innerHTML')\n",
    "main_content\n",
    "element.click()"
   ]
  },
  {
   "cell_type": "code",
   "execution_count": 44,
   "metadata": {},
   "outputs": [
    {
     "name": "stdout",
     "output_type": "stream",
     "text": [
      "['CDwindow-D8350100A5EFCAC7F830B259B740BC8B', 'CDwindow-59C1E9F02889585A812D96589F5D0487']\n"
     ]
    }
   ],
   "source": [
    "print (driver.window_handles)"
   ]
  },
  {
   "cell_type": "code",
   "execution_count": 45,
   "metadata": {},
   "outputs": [],
   "source": [
    "# 新建图文消息开了另一分视窗，所以要切换 switch_to \n",
    "driver.switch_to.window(driver.window_handles[-1])"
   ]
  },
  {
   "cell_type": "markdown",
   "metadata": {},
   "source": [
    "## 超链接"
   ]
  },
  {
   "cell_type": "code",
   "execution_count": 46,
   "metadata": {},
   "outputs": [
    {
     "name": "stdout",
     "output_type": "stream",
     "text": [
      "                超链接              \n"
     ]
    }
   ],
   "source": [
    "# 打开“超连接”界面\n",
    "element = driver.find_element_by_xpath('//*[text()[contains(.,\"超链接\")]]') \n",
    "main_content = element.get_attribute('innerHTML')\n",
    "print(main_content)\n",
    "element.click()"
   ]
  },
  {
   "cell_type": "code",
   "execution_count": 47,
   "metadata": {},
   "outputs": [
    {
     "name": "stdout",
     "output_type": "stream",
     "text": [
      "选择其他公众号\n"
     ]
    }
   ],
   "source": [
    "# 点 选择其他公众号\n",
    "element = driver.find_element_by_xpath('//*[text()[contains(.,\"选择其他公众号\")]]') \n",
    "main_content = element.get_attribute('innerHTML')\n",
    "print(main_content)\n",
    "element.click()"
   ]
  },
  {
   "cell_type": "code",
   "execution_count": 48,
   "metadata": {},
   "outputs": [],
   "source": [
    "# 填入公众号\n",
    "driver.find_element_by_xpath('//form//div[@class=\"inner_link_account_area\"]//input[@class=\"weui-desktop-form__input\"]').clear()\n",
    "driver.find_element_by_xpath('//form//div[@class=\"inner_link_account_area\"]//input[@class=\"weui-desktop-form__input\"]').send_keys(公众号)"
   ]
  },
  {
   "cell_type": "code",
   "execution_count": 49,
   "metadata": {},
   "outputs": [
    {
     "name": "stdout",
     "output_type": "stream",
     "text": [
      "<div class=\"weui-desktop-icon weui-desktop-icon__inputSearch weui-desktop-icon__small\"><!----> <!----> <!----> <!----> <!----> <!----> <!----> <!----> <!----> <!----> <!----> <!----> <!----> <!----> <!----> <!----> <!----> <!----> <!----> <!----> <!----> <!----> <!----> <!----> <!----> <!----> <!----> <!----> <!----> <!----> <!----> <!----> <!----> <!----> <!----> <!----> <!----> <!----> <!----> <!----> <!----> <!----> <!----> <!----> <!----> <!----> <!----> <!----> <!----> <!----> <!----> <!----> <!----> <!----> <svg width=\"16\" height=\"16\" viewBox=\"0 0 16 16\" xmlns=\"http://www.w3.org/2000/svg\"><path d=\"M11.33 10.007l4.273 4.273a.502.502 0 0 1 .005.709l-.585.584a.499.499 0 0 1-.709-.004L10.046 11.3a6.278 6.278 0 1 1 1.284-1.294zm.012-3.729a5.063 5.063 0 1 0-10.127 0 5.063 5.063 0 0 0 10.127 0z\"></path></svg> <!----> <!----> <!----> <!----></div>\n"
     ]
    }
   ],
   "source": [
    "# 点放大镜搜\n",
    "element = driver.find_element_by_xpath('//button[@class=\"weui-desktop-icon-btn weui-desktop-search__btn\"]')\n",
    "main_content = element.get_attribute('innerHTML')\n",
    "print(main_content)\n",
    "element.click()"
   ]
  },
  {
   "cell_type": "code",
   "execution_count": 50,
   "metadata": {},
   "outputs": [
    {
     "name": "stdout",
     "output_type": "stream",
     "text": [
      "<li class=\"inner_link_account_item\"><div class=\"weui-desktop-vm_primary\"><img src=\"http://mmbiz.qpic.cn/mmbiz_png/7ibiaW6xrvz0p1V6c6QWEE0C4CAibsL8LWclSta2QzTet7gNmAUu0uZLg7XiaibFXIbI3pV5Z7XLonznibl1icEH1TBOA/0?wx_fmt=png\" class=\"inner_link_account_avatar\"> <strong class=\"inner_link_account_nickname\">篮球信徒</strong> <i class=\"inner_link_account_wechat\">微信号：wehoop</i></div> <div class=\"weui-desktop-vm_default inner_link_account_type\">订阅号</div></li><li class=\"inner_link_account_item\"><div class=\"weui-desktop-vm_primary\"><img src=\"http://mmbiz.qpic.cn/mmbiz_png/yticdH5eEPgyPBn9zaUpib3jSDchqdcfEae2Q4R4Em2TqoQ9ribVDA1OOicm9siamLTHRsnUibEQOhkGwhsA9QPTfMuw/0?wx_fmt=png\" class=\"inner_link_account_avatar\"> <strong class=\"inner_link_account_nickname\">篮球信徒行者图录</strong> <i class=\"inner_link_account_wechat\">微信号：未设置</i></div> <div class=\"weui-desktop-vm_default inner_link_account_type\">订阅号</div></li><li class=\"inner_link_account_item\"><div class=\"weui-desktop-vm_primary\"><img src=\"http://mmbiz.qpic.cn/mmbiz_png/v6oibqcq8MwaYLNWYzm9PF4PvjdlbuHRQu4wxAXe0PXpdVfibmKlv4YGn32q7rmReHxrlIUlLudbibb4tibibibkZHrQ/0?wx_fmt=png\" class=\"inner_link_account_avatar\"> <strong class=\"inner_link_account_nickname\">主播李大嘴篮球信徒鸟哥渣叔聊球</strong> <i class=\"inner_link_account_wechat\">微信号：未设置</i></div> <div class=\"weui-desktop-vm_default inner_link_account_type\">订阅号</div></li><li class=\"inner_link_account_item\"><div class=\"weui-desktop-vm_primary\"><img src=\"http://mmbiz.qpic.cn/mmbiz_png/9CHHnhO67LbeSgUGDsGnbbsIddkVeFdiaUDV1nicxLRLlmicatbhFGd2NVwrjK1Zya7xqAax3Ins9DRTwPO8RWtvA/0?wx_fmt=png\" class=\"inner_link_account_avatar\"> <strong class=\"inner_link_account_nickname\">AHU篮球信徒</strong> <i class=\"inner_link_account_wechat\">微信号：未设置</i></div> <div class=\"weui-desktop-vm_default inner_link_account_type\">订阅号</div></li><li class=\"inner_link_account_item\"><div class=\"weui-desktop-vm_primary\"><img src=\"http://mmbiz.qpic.cn/mmbiz_png/qq7VNq0QAIwXscqBA9P01bpVgkIIGkDSZyhew8VRJLvey47YhKBUynKsw3mpweTsFabwtJWpzmLdHHmQAN2RQw/0?wx_fmt=png\" class=\"inner_link_account_avatar\"> <strong class=\"inner_link_account_nickname\">篮球信徒 play ball</strong> <i class=\"inner_link_account_wechat\">微信号：LQXTGGG</i></div> <div class=\"weui-desktop-vm_default inner_link_account_type\">订阅号</div></li>\n"
     ]
    }
   ],
   "source": [
    "element = driver.find_element_by_xpath('//ul[@class=\"inner_link_account_list\"]')\n",
    "main_content = element.get_attribute('innerHTML')\n",
    "print(main_content)\n",
    "公众号SERP = main_content"
   ]
  },
  {
   "cell_type": "code",
   "execution_count": 51,
   "metadata": {},
   "outputs": [],
   "source": [
    "# 解析\n",
    "root = fromstring(公众号SERP) "
   ]
  },
  {
   "cell_type": "code",
   "execution_count": 52,
   "metadata": {},
   "outputs": [],
   "source": [
    "# 列举相关公众号\n",
    "主 = root.xpath('//li[@class=\"inner_link_account_item\"]')\n",
    "\n",
    "account_list = []\n",
    "for e in 主:\n",
    "    account_nickname = e.xpath('./div/strong[@class=\"inner_link_account_nickname\"]')[0].text\n",
    "    account_wechat = e.xpath('./div/i[@class=\"inner_link_account_wechat\"]')[0].text\n",
    "    account_img = e.xpath('./div/img/@src')[0]\n",
    "    account = {\"nickname\": account_nickname, \"wechat\": account_wechat, \"img\": account_img,}\n",
    "    account_list.append(account)\n",
    "\n",
    "df_account = pd.DataFrame(account_list)"
   ]
  },
  {
   "cell_type": "code",
   "execution_count": 53,
   "metadata": {},
   "outputs": [
    {
     "data": {
      "text/html": [
       "<div>\n",
       "<style scoped>\n",
       "    .dataframe tbody tr th:only-of-type {\n",
       "        vertical-align: middle;\n",
       "    }\n",
       "\n",
       "    .dataframe tbody tr th {\n",
       "        vertical-align: top;\n",
       "    }\n",
       "\n",
       "    .dataframe thead th {\n",
       "        text-align: right;\n",
       "    }\n",
       "</style>\n",
       "<table border=\"1\" class=\"dataframe\">\n",
       "  <thead>\n",
       "    <tr style=\"text-align: right;\">\n",
       "      <th></th>\n",
       "      <th>nickname</th>\n",
       "      <th>wechat</th>\n",
       "      <th>img</th>\n",
       "    </tr>\n",
       "  </thead>\n",
       "  <tbody>\n",
       "    <tr>\n",
       "      <th>0</th>\n",
       "      <td>篮球信徒</td>\n",
       "      <td>微信号：wehoop</td>\n",
       "      <td>http://mmbiz.qpic.cn/mmbiz_png/7ibiaW6xrvz0p1V...</td>\n",
       "    </tr>\n",
       "    <tr>\n",
       "      <th>1</th>\n",
       "      <td>篮球信徒行者图录</td>\n",
       "      <td>微信号：未设置</td>\n",
       "      <td>http://mmbiz.qpic.cn/mmbiz_png/yticdH5eEPgyPBn...</td>\n",
       "    </tr>\n",
       "    <tr>\n",
       "      <th>2</th>\n",
       "      <td>主播李大嘴篮球信徒鸟哥渣叔聊球</td>\n",
       "      <td>微信号：未设置</td>\n",
       "      <td>http://mmbiz.qpic.cn/mmbiz_png/v6oibqcq8MwaYLN...</td>\n",
       "    </tr>\n",
       "    <tr>\n",
       "      <th>3</th>\n",
       "      <td>AHU篮球信徒</td>\n",
       "      <td>微信号：未设置</td>\n",
       "      <td>http://mmbiz.qpic.cn/mmbiz_png/9CHHnhO67LbeSgU...</td>\n",
       "    </tr>\n",
       "    <tr>\n",
       "      <th>4</th>\n",
       "      <td>篮球信徒 play ball</td>\n",
       "      <td>微信号：LQXTGGG</td>\n",
       "      <td>http://mmbiz.qpic.cn/mmbiz_png/qq7VNq0QAIwXscq...</td>\n",
       "    </tr>\n",
       "  </tbody>\n",
       "</table>\n",
       "</div>"
      ],
      "text/plain": [
       "          nickname       wechat  \\\n",
       "0             篮球信徒   微信号：wehoop   \n",
       "1         篮球信徒行者图录      微信号：未设置   \n",
       "2  主播李大嘴篮球信徒鸟哥渣叔聊球      微信号：未设置   \n",
       "3          AHU篮球信徒      微信号：未设置   \n",
       "4   篮球信徒 play ball  微信号：LQXTGGG   \n",
       "\n",
       "                                                 img  \n",
       "0  http://mmbiz.qpic.cn/mmbiz_png/7ibiaW6xrvz0p1V...  \n",
       "1  http://mmbiz.qpic.cn/mmbiz_png/yticdH5eEPgyPBn...  \n",
       "2  http://mmbiz.qpic.cn/mmbiz_png/v6oibqcq8MwaYLN...  \n",
       "3  http://mmbiz.qpic.cn/mmbiz_png/9CHHnhO67LbeSgU...  \n",
       "4  http://mmbiz.qpic.cn/mmbiz_png/qq7VNq0QAIwXscq...  "
      ]
     },
     "execution_count": 53,
     "metadata": {},
     "output_type": "execute_result"
    }
   ],
   "source": [
    "# 列表呈现\n",
    "df_account"
   ]
  },
  {
   "cell_type": "code",
   "execution_count": 54,
   "metadata": {},
   "outputs": [
    {
     "name": "stdout",
     "output_type": "stream",
     "text": [
      "<div class=\"weui-desktop-vm_primary\"><img src=\"http://mmbiz.qpic.cn/mmbiz_png/7ibiaW6xrvz0p1V6c6QWEE0C4CAibsL8LWclSta2QzTet7gNmAUu0uZLg7XiaibFXIbI3pV5Z7XLonznibl1icEH1TBOA/0?wx_fmt=png\" class=\"inner_link_account_avatar\"> <strong class=\"inner_link_account_nickname\">篮球信徒</strong> <i class=\"inner_link_account_wechat\">微信号：wehoop</i></div> <div class=\"weui-desktop-vm_default inner_link_account_type\">订阅号</div>\n"
     ]
    }
   ],
   "source": [
    "#抓取文章\n",
    "element = driver.find_element_by_xpath('//ul[@class=\"inner_link_account_list\"]/li')\n",
    "main_content = element.get_attribute('innerHTML')\n",
    "print(main_content)\n",
    "element.click()"
   ]
  },
  {
   "cell_type": "code",
   "execution_count": 55,
   "metadata": {},
   "outputs": [
    {
     "data": {
      "text/plain": [
       "'\\n跳转_input = driver.find_element_by_xpath(\\'//span[@class=\"weui-desktop-pagination__form\"]/input\\')\\n跳转_a = driver.find_element_by_xpath(\\'//span[@class=\"weui-desktop-pagination__form\"]/a\\')\\n跳转_input.clear()\\n跳转_input.send_keys(2)\\n跳转_a.click()\\n'"
      ]
     },
     "execution_count": 55,
     "metadata": {},
     "output_type": "execute_result"
    }
   ],
   "source": [
    "# 跳转testing\n",
    "'''\n",
    "跳转_input = driver.find_element_by_xpath('//span[@class=\"weui-desktop-pagination__form\"]/input')\n",
    "跳转_a = driver.find_element_by_xpath('//span[@class=\"weui-desktop-pagination__form\"]/a')\n",
    "跳转_input.clear()\n",
    "跳转_input.send_keys(2)\n",
    "跳转_a.click()\n",
    "'''"
   ]
  },
  {
   "cell_type": "code",
   "execution_count": 56,
   "metadata": {},
   "outputs": [
    {
     "name": "stdout",
     "output_type": "stream",
     "text": [
      "[1, 188]\n",
      "False\n"
     ]
    }
   ],
   "source": [
    "# 跳转上限\n",
    "l_e = driver.find_elements_by_xpath('//label[@class=\"weui-desktop-pagination__num\"]')\n",
    "l_e_int  = [int(x.text) for x in l_e] \n",
    "print (l_e_int)\n",
    "print (l_e_int[0]==l_e_int[-1])"
   ]
  },
  {
   "cell_type": "code",
   "execution_count": 57,
   "metadata": {},
   "outputs": [
    {
     "name": "stdout",
     "output_type": "stream",
     "text": [
      "[1, 2, 3, 4, 5, 6, 7, 8, 9, 10, 11, 12, 13, 14, 15, 16, 17, 18, 19, 20, 21, 22, 23, 24, 25, 26, 27, 28, 29, 30, 31, 32, 33, 34, 35, 36, 37, 38, 39, 40, 41, 42, 43, 44, 45, 46, 47, 48, 49, 50, 51, 52, 53, 54, 55, 56, 57, 58, 59, 60, 61, 62, 63, 64, 65, 66, 67, 68, 69, 70, 71, 72, 73, 74, 75, 76, 77, 78, 79, 80, 81, 82, 83, 84, 85, 86, 87, 88, 89, 90, 91, 92, 93, 94, 95, 96, 97, 98, 99, 100, 101, 102, 103, 104, 105, 106, 107, 108, 109, 110, 111, 112, 113, 114, 115, 116, 117, 118, 119, 120, 121, 122, 123, 124, 125, 126, 127, 128, 129, 130, 131, 132, 133, 134, 135, 136, 137, 138, 139, 140, 141, 142, 143, 144, 145, 146, 147, 148, 149, 150, 151, 152, 153, 154, 155, 156, 157, 158, 159, 160, 161, 162, 163, 164, 165, 166, 167, 168, 169, 170, 171, 172, 173, 174, 175, 176, 177, 178, 179, 180, 181, 182, 183, 184, 185, 186, 187, 188]\n"
     ]
    }
   ],
   "source": [
    "# 列出页数\n",
    "pages = list(range(l_e_int[0],l_e_int[-1]+1 ))\n",
    "#print(pages[0:2])\n",
    "pages = list(range(1,l_e_int[-1]+1 ))\n",
    "print(pages)"
   ]
  },
  {
   "cell_type": "markdown",
   "metadata": {},
   "source": [
    "## 循环/遍历"
   ]
  },
  {
   "cell_type": "code",
   "execution_count": 58,
   "metadata": {},
   "outputs": [],
   "source": [
    "# global varialbes \n",
    "html_raw = dict()\n",
    "main_content =\"\"\n",
    "element = None"
   ]
  },
  {
   "cell_type": "code",
   "execution_count": 59,
   "metadata": {},
   "outputs": [],
   "source": [
    "# 遍历所有页面\n",
    "def process_pages (pages):\n",
    "    for p in pages:\n",
    "        print (p,end='\\t')\n",
    "\n",
    "        跳转_input = driver.find_element_by_xpath('//span[@class=\"weui-desktop-pagination__form\"]/input')\n",
    "        跳转_a = driver.find_element_by_xpath('//span[@class=\"weui-desktop-pagination__form\"]/a')\n",
    "        跳转_input.clear()\n",
    "        跳转_input.send_keys(p)\n",
    "        跳转_a.click()\n",
    "\n",
    "        time.sleep(45+120*random())\n",
    "\n",
    "        element = driver.find_element_by_xpath('//div[@class=\"inner_link_article_list\"]')\n",
    "        main_content = element.get_attribute('innerHTML')\n",
    "        #print(main_content)\n",
    "        html_raw[p] = main_content"
   ]
  },
  {
   "cell_type": "code",
   "execution_count": 60,
   "metadata": {},
   "outputs": [
    {
     "name": "stdout",
     "output_type": "stream",
     "text": [
      "1\t2\t3\t4\t5\t6\t7\t8\t9\t10\t11\t12\t13\t14\t15\t16\t17\t18\t19\t20\t21\t22\t23\t24\t25\t26\t27\t28\t29\t30\t31\t32\t33\t34\t35\t36\t37\t38\t39\t40\t41\t42\t43\t44\t45\t46\t47\t48\t49\t50\t51\t52\t53\t54\t55\t56\t57\t58\t59\t60\t61\t62\t63\t64\t65\t66\t67\t68\t69\t70\t71\t72\t73\t74\t75\t76\t77\t78\t79\t80\t81\t82\t83\t84\t85\t86\t87\t88\t89\t90\t91\t92\t93\t94\t95\t96\t97\t98\t99\t100\t101\t102\t103\t104\t105\t106\t107\t108\t109\t110\t111\t112\t113\t114\t115\t116\t117\t118\t119\t120\t121\t122\t123\t124\t125\t126\t127\t128\t129\t130\t131\t132\t133\t134\t135\t136\t137\t138\t139\t140\t141\t142\t143\t144\t145\t146\t147\t148\t149\t150\t151\t152\t153\t154\t155\t156\t157\t158\t159\t160\t161\t162\t163\t164\t165\t166\t167\t168\t169\t170\t171\t172\t173\t174\t175\t176\t177\t178\t179\t180\t181\t182\t183\t184\t185\t186\t187\t188\t"
     ]
    }
   ],
   "source": [
    "process_pages(pages)"
   ]
  },
  {
   "cell_type": "code",
   "execution_count": 61,
   "metadata": {},
   "outputs": [
    {
     "data": {
      "text/html": [
       "<div>\n",
       "<style scoped>\n",
       "    .dataframe tbody tr th:only-of-type {\n",
       "        vertical-align: middle;\n",
       "    }\n",
       "\n",
       "    .dataframe tbody tr th {\n",
       "        vertical-align: top;\n",
       "    }\n",
       "\n",
       "    .dataframe thead th {\n",
       "        text-align: right;\n",
       "    }\n",
       "</style>\n",
       "<table border=\"1\" class=\"dataframe\">\n",
       "  <thead>\n",
       "    <tr style=\"text-align: right;\">\n",
       "      <th></th>\n",
       "      <th>html_snippets</th>\n",
       "    </tr>\n",
       "  </thead>\n",
       "  <tbody>\n",
       "    <tr>\n",
       "      <th>1</th>\n",
       "      <td>&lt;div&gt;&lt;label class=\"inner_link_article_item\"&gt;&lt;s...</td>\n",
       "    </tr>\n",
       "    <tr>\n",
       "      <th>2</th>\n",
       "      <td>&lt;div&gt;&lt;label class=\"inner_link_article_item\"&gt;&lt;s...</td>\n",
       "    </tr>\n",
       "    <tr>\n",
       "      <th>3</th>\n",
       "      <td>&lt;div&gt;&lt;label class=\"inner_link_article_item\"&gt;&lt;s...</td>\n",
       "    </tr>\n",
       "    <tr>\n",
       "      <th>4</th>\n",
       "      <td>&lt;div&gt;&lt;label class=\"inner_link_article_item\"&gt;&lt;s...</td>\n",
       "    </tr>\n",
       "    <tr>\n",
       "      <th>5</th>\n",
       "      <td>&lt;div&gt;&lt;label class=\"inner_link_article_item\"&gt;&lt;s...</td>\n",
       "    </tr>\n",
       "    <tr>\n",
       "      <th>...</th>\n",
       "      <td>...</td>\n",
       "    </tr>\n",
       "    <tr>\n",
       "      <th>184</th>\n",
       "      <td>&lt;div&gt;&lt;label class=\"inner_link_article_item\"&gt;&lt;s...</td>\n",
       "    </tr>\n",
       "    <tr>\n",
       "      <th>185</th>\n",
       "      <td>&lt;div&gt;&lt;label class=\"inner_link_article_item\"&gt;&lt;s...</td>\n",
       "    </tr>\n",
       "    <tr>\n",
       "      <th>186</th>\n",
       "      <td>&lt;div&gt;&lt;label class=\"inner_link_article_item\"&gt;&lt;s...</td>\n",
       "    </tr>\n",
       "    <tr>\n",
       "      <th>187</th>\n",
       "      <td>&lt;div&gt;&lt;label class=\"inner_link_article_item\"&gt;&lt;s...</td>\n",
       "    </tr>\n",
       "    <tr>\n",
       "      <th>188</th>\n",
       "      <td>&lt;div&gt;&lt;label class=\"inner_link_article_item\"&gt;&lt;s...</td>\n",
       "    </tr>\n",
       "  </tbody>\n",
       "</table>\n",
       "<p>188 rows × 1 columns</p>\n",
       "</div>"
      ],
      "text/plain": [
       "                                         html_snippets\n",
       "1    <div><label class=\"inner_link_article_item\"><s...\n",
       "2    <div><label class=\"inner_link_article_item\"><s...\n",
       "3    <div><label class=\"inner_link_article_item\"><s...\n",
       "4    <div><label class=\"inner_link_article_item\"><s...\n",
       "5    <div><label class=\"inner_link_article_item\"><s...\n",
       "..                                                 ...\n",
       "184  <div><label class=\"inner_link_article_item\"><s...\n",
       "185  <div><label class=\"inner_link_article_item\"><s...\n",
       "186  <div><label class=\"inner_link_article_item\"><s...\n",
       "187  <div><label class=\"inner_link_article_item\"><s...\n",
       "188  <div><label class=\"inner_link_article_item\"><s...\n",
       "\n",
       "[188 rows x 1 columns]"
      ]
     },
     "execution_count": 61,
     "metadata": {},
     "output_type": "execute_result"
    }
   ],
   "source": [
    "# 爬取HTML档\n",
    "df = pd.DataFrame([html_raw]).T\n",
    "df.columns = [\"html_snippets\"]\n",
    "df"
   ]
  },
  {
   "cell_type": "code",
   "execution_count": 62,
   "metadata": {},
   "outputs": [
    {
     "name": "stdout",
     "output_type": "stream",
     "text": [
      "Stored 'html_raw' (dict)\n"
     ]
    }
   ],
   "source": [
    "%store html_raw\n",
    "import pickle \n",
    "filehandler = open(\"html_raw\", 'wb') \n",
    "pickle.dump(html_raw, filehandler)"
   ]
  },
  {
   "cell_type": "code",
   "execution_count": 63,
   "metadata": {},
   "outputs": [
    {
     "name": "stdout",
     "output_type": "stream",
     "text": [
      "187\n"
     ]
    },
    {
     "data": {
      "text/html": [
       "<div>\n",
       "<style scoped>\n",
       "    .dataframe tbody tr th:only-of-type {\n",
       "        vertical-align: middle;\n",
       "    }\n",
       "\n",
       "    .dataframe tbody tr th {\n",
       "        vertical-align: top;\n",
       "    }\n",
       "\n",
       "    .dataframe thead th {\n",
       "        text-align: right;\n",
       "    }\n",
       "</style>\n",
       "<table border=\"1\" class=\"dataframe\">\n",
       "  <thead>\n",
       "    <tr style=\"text-align: right;\">\n",
       "      <th></th>\n",
       "      <th>html_snippets</th>\n",
       "    </tr>\n",
       "  </thead>\n",
       "  <tbody>\n",
       "    <tr>\n",
       "      <th>12</th>\n",
       "      <td>&lt;div&gt;&lt;label class=\"inner_link_article_item\"&gt;&lt;s...</td>\n",
       "    </tr>\n",
       "  </tbody>\n",
       "</table>\n",
       "</div>"
      ],
      "text/plain": [
       "                                        html_snippets\n",
       "12  <div><label class=\"inner_link_article_item\"><s..."
      ]
     },
     "execution_count": 63,
     "metadata": {},
     "output_type": "execute_result"
    }
   ],
   "source": [
    "# 查看有效页数\n",
    "df_out = df[~df.duplicated()]\n",
    "print (len(df_out))\n",
    "df[df.duplicated()]"
   ]
  },
  {
   "cell_type": "code",
   "execution_count": 64,
   "metadata": {},
   "outputs": [
    {
     "name": "stdout",
     "output_type": "stream",
     "text": [
      "[12]\n"
     ]
    },
    {
     "data": {
      "text/plain": [
       "[12]"
      ]
     },
     "execution_count": 64,
     "metadata": {},
     "output_type": "execute_result"
    }
   ],
   "source": [
    "try_again = list(df[df.duplicated()].index)\n",
    "print(try_again)\n",
    "try_again = try_again + list (set(pages).difference(set(df.index.values)))\n",
    "try_again"
   ]
  },
  {
   "cell_type": "markdown",
   "metadata": {},
   "source": [
    "## 暂存档"
   ]
  },
  {
   "cell_type": "code",
   "execution_count": 65,
   "metadata": {},
   "outputs": [],
   "source": [
    "filename = fn [\"output\"] [\"公众号_htm_snippets\"] \n",
    "df_out.to_csv(filename.format(公众号=公众号), sep=\"\\t\", encoding=\"utf8\")"
   ]
  },
  {
   "cell_type": "code",
   "execution_count": 66,
   "metadata": {},
   "outputs": [
    {
     "name": "stdout",
     "output_type": "stream",
     "text": [
      "25,25,25,25,25,25,25,25,25,25,25,25,25,25,25,25,25,24,25,25,23,15,25,25,25,25,25,25,25,25,25,25,25,25,24,25,25,25,25,25,25,25,25,25,25,25,25,25,25,25,24,25,25,25,25,25,25,25,25,25,25,25,25,25,25,25,25,25,25,25,25,25,25,25,25,25,25,25,24,25,25,25,24,25,25,25,25,25,25,25,25,25,25,25,24,25,24,24,25,21,25,25,25,25,25,26,24,24,25,25,26,19,25,25,24,24,25,25,25,25,26,25,24,25,25,25,25,25,25,24,24,25,23,23,24,24,24,25,24,24,25,24,23,24,25,22,23,22,21,21,20,20,20,20,20,18,20,20,20,19,19,16,19,17,17,21,19,19,17,14,10,9,14,13,10,6,8,8,9,9,5,5,6,6,7,6,6,3,"
     ]
    }
   ],
   "source": [
    "def parse_html_snippets(_snippet_):\n",
    "    root = fromstring(_snippet_) \n",
    "    title = [x.text for x in root.xpath('//div[@class=\"inner_link_article_title\"]')]\n",
    "    create_time = [x.text for x in root.xpath('//div[@class=\"inner_link_article_date\"]')]\n",
    "    link = [x for x in root.xpath('//a/@href')]\n",
    "    _df_ = pd.DataFrame({\"title\":title, \"create_time\": create_time, \"link\":link})\n",
    "    return(_df_)\n",
    "    \n",
    "l_df = []\n",
    "for p in pages:\n",
    "    _df_ = parse_html_snippets(df.loc[p,\"html_snippets\"])\n",
    "    print (len(_df_), end=\",\")\n",
    "    l_df.append(_df_)"
   ]
  },
  {
   "cell_type": "code",
   "execution_count": 67,
   "metadata": {},
   "outputs": [
    {
     "data": {
      "text/html": [
       "<div>\n",
       "<style scoped>\n",
       "    .dataframe tbody tr th:only-of-type {\n",
       "        vertical-align: middle;\n",
       "    }\n",
       "\n",
       "    .dataframe tbody tr th {\n",
       "        vertical-align: top;\n",
       "    }\n",
       "\n",
       "    .dataframe thead th {\n",
       "        text-align: right;\n",
       "    }\n",
       "</style>\n",
       "<table border=\"1\" class=\"dataframe\">\n",
       "  <thead>\n",
       "    <tr style=\"text-align: right;\">\n",
       "      <th></th>\n",
       "      <th>title</th>\n",
       "      <th>create_time</th>\n",
       "      <th>link</th>\n",
       "    </tr>\n",
       "  </thead>\n",
       "  <tbody>\n",
       "    <tr>\n",
       "      <th>0</th>\n",
       "      <td>保罗过去5年最炸的过人都在这里了！小打大教科书，喜欢看他打球吗？</td>\n",
       "      <td>2020-05-14</td>\n",
       "      <td>http://mp.weixin.qq.com/s?__biz=MzI2NDAzOTAzMA...</td>\n",
       "    </tr>\n",
       "    <tr>\n",
       "      <th>1</th>\n",
       "      <td>快到看不清！这波操作我可以看5遍！</td>\n",
       "      <td>2020-05-14</td>\n",
       "      <td>http://mp.weixin.qq.com/s?__biz=MzI2NDAzOTAzMA...</td>\n",
       "    </tr>\n",
       "    <tr>\n",
       "      <th>2</th>\n",
       "      <td>初代欧洲魔术师？他打球太华丽了！</td>\n",
       "      <td>2020-05-14</td>\n",
       "      <td>http://mp.weixin.qq.com/s?__biz=MzI2NDAzOTAzMA...</td>\n",
       "    </tr>\n",
       "    <tr>\n",
       "      <th>3</th>\n",
       "      <td>巅峰麦迪对飚乔丹，这比赛有点好看！</td>\n",
       "      <td>2020-05-14</td>\n",
       "      <td>http://mp.weixin.qq.com/s?__biz=MzI2NDAzOTAzMA...</td>\n",
       "    </tr>\n",
       "    <tr>\n",
       "      <th>4</th>\n",
       "      <td>血布的防守什么水平？这切球太犀利了！</td>\n",
       "      <td>2020-05-14</td>\n",
       "      <td>http://mp.weixin.qq.com/s?__biz=MzI2NDAzOTAzMA...</td>\n",
       "    </tr>\n",
       "    <tr>\n",
       "      <th>5</th>\n",
       "      <td>尼克斯时期的瓜哥是怎么打球的？进攻万花筒，太难防了！</td>\n",
       "      <td>2020-05-13</td>\n",
       "      <td>http://mp.weixin.qq.com/s?__biz=MzI2NDAzOTAzMA...</td>\n",
       "    </tr>\n",
       "    <tr>\n",
       "      <th>6</th>\n",
       "      <td>背后运球穿人缝？麦迪这记过人我可以看5遍！</td>\n",
       "      <td>2020-05-13</td>\n",
       "      <td>http://mp.weixin.qq.com/s?__biz=MzI2NDAzOTAzMA...</td>\n",
       "    </tr>\n",
       "    <tr>\n",
       "      <th>7</th>\n",
       "      <td>第一控卫VS第一分卫？2011湖人大战黄蜂太好看了！</td>\n",
       "      <td>2020-05-13</td>\n",
       "      <td>http://mp.weixin.qq.com/s?__biz=MzI2NDAzOTAzMA...</td>\n",
       "    </tr>\n",
       "    <tr>\n",
       "      <th>8</th>\n",
       "      <td>绝对的大心脏！雷阿伦这些关键球太经典了！</td>\n",
       "      <td>2020-05-13</td>\n",
       "      <td>http://mp.weixin.qq.com/s?__biz=MzI2NDAzOTAzMA...</td>\n",
       "    </tr>\n",
       "    <tr>\n",
       "      <th>9</th>\n",
       "      <td>车帅人更帅？乌布雷这组照片有点好看！</td>\n",
       "      <td>2020-05-13</td>\n",
       "      <td>http://mp.weixin.qq.com/s?__biz=MzI2NDAzOTAzMA...</td>\n",
       "    </tr>\n",
       "    <tr>\n",
       "      <th>10</th>\n",
       "      <td>克莱汤普森的选秀报告！缺少运动能力，总评93分，成就已超模板！</td>\n",
       "      <td>2020-05-12</td>\n",
       "      <td>http://mp.weixin.qq.com/s?__biz=MzI2NDAzOTAzMA...</td>\n",
       "    </tr>\n",
       "  </tbody>\n",
       "</table>\n",
       "</div>"
      ],
      "text/plain": [
       "                               title create_time  \\\n",
       "0   保罗过去5年最炸的过人都在这里了！小打大教科书，喜欢看他打球吗？  2020-05-14   \n",
       "1                  快到看不清！这波操作我可以看5遍！  2020-05-14   \n",
       "2                   初代欧洲魔术师？他打球太华丽了！  2020-05-14   \n",
       "3                  巅峰麦迪对飚乔丹，这比赛有点好看！  2020-05-14   \n",
       "4                 血布的防守什么水平？这切球太犀利了！  2020-05-14   \n",
       "5         尼克斯时期的瓜哥是怎么打球的？进攻万花筒，太难防了！  2020-05-13   \n",
       "6              背后运球穿人缝？麦迪这记过人我可以看5遍！  2020-05-13   \n",
       "7         第一控卫VS第一分卫？2011湖人大战黄蜂太好看了！  2020-05-13   \n",
       "8               绝对的大心脏！雷阿伦这些关键球太经典了！  2020-05-13   \n",
       "9                 车帅人更帅？乌布雷这组照片有点好看！  2020-05-13   \n",
       "10   克莱汤普森的选秀报告！缺少运动能力，总评93分，成就已超模板！  2020-05-12   \n",
       "\n",
       "                                                 link  \n",
       "0   http://mp.weixin.qq.com/s?__biz=MzI2NDAzOTAzMA...  \n",
       "1   http://mp.weixin.qq.com/s?__biz=MzI2NDAzOTAzMA...  \n",
       "2   http://mp.weixin.qq.com/s?__biz=MzI2NDAzOTAzMA...  \n",
       "3   http://mp.weixin.qq.com/s?__biz=MzI2NDAzOTAzMA...  \n",
       "4   http://mp.weixin.qq.com/s?__biz=MzI2NDAzOTAzMA...  \n",
       "5   http://mp.weixin.qq.com/s?__biz=MzI2NDAzOTAzMA...  \n",
       "6   http://mp.weixin.qq.com/s?__biz=MzI2NDAzOTAzMA...  \n",
       "7   http://mp.weixin.qq.com/s?__biz=MzI2NDAzOTAzMA...  \n",
       "8   http://mp.weixin.qq.com/s?__biz=MzI2NDAzOTAzMA...  \n",
       "9   http://mp.weixin.qq.com/s?__biz=MzI2NDAzOTAzMA...  \n",
       "10  http://mp.weixin.qq.com/s?__biz=MzI2NDAzOTAzMA...  "
      ]
     },
     "execution_count": 67,
     "metadata": {},
     "output_type": "execute_result"
    }
   ],
   "source": [
    "# 查看前五篇文章\n",
    "df_url_out = pd.concat(l_df).reset_index(drop=True)\n",
    "df_url_out.loc[0:10]"
   ]
  },
  {
   "cell_type": "code",
   "execution_count": 68,
   "metadata": {},
   "outputs": [
    {
     "data": {
      "text/html": [
       "<div>\n",
       "<style scoped>\n",
       "    .dataframe tbody tr th:only-of-type {\n",
       "        vertical-align: middle;\n",
       "    }\n",
       "\n",
       "    .dataframe tbody tr th {\n",
       "        vertical-align: top;\n",
       "    }\n",
       "\n",
       "    .dataframe thead th {\n",
       "        text-align: right;\n",
       "    }\n",
       "</style>\n",
       "<table border=\"1\" class=\"dataframe\">\n",
       "  <thead>\n",
       "    <tr style=\"text-align: right;\">\n",
       "      <th></th>\n",
       "      <th>title</th>\n",
       "      <th>create_time</th>\n",
       "      <th>link</th>\n",
       "    </tr>\n",
       "  </thead>\n",
       "  <tbody>\n",
       "    <tr>\n",
       "      <th>4197</th>\n",
       "      <td>也许是你不知道的过人高手，个人超喜欢的矮个控位！</td>\n",
       "      <td>2017-06-29</td>\n",
       "      <td>http://mp.weixin.qq.com/s?__biz=MzI2NDAzOTAzMA...</td>\n",
       "    </tr>\n",
       "    <tr>\n",
       "      <th>4198</th>\n",
       "      <td>最纯粹的篮球，Jaythan Bosch叫板Julian Newman</td>\n",
       "      <td>2017-06-28</td>\n",
       "      <td>http://mp.weixin.qq.com/s?__biz=MzI2NDAzOTAzMA...</td>\n",
       "    </tr>\n",
       "    <tr>\n",
       "      <th>4199</th>\n",
       "      <td>现场看NBA是什么感觉？这个视频会给你答案。</td>\n",
       "      <td>2016-02-13</td>\n",
       "      <td>http://mp.weixin.qq.com/s?__biz=MzI2NDAzOTAzMA...</td>\n",
       "    </tr>\n",
       "    <tr>\n",
       "      <th>4200</th>\n",
       "      <td>欧文风骚转身合集，看湿了吗?</td>\n",
       "      <td>2016-01-19</td>\n",
       "      <td>http://mp.weixin.qq.com/s?__biz=MzI2NDAzOTAzMA...</td>\n",
       "    </tr>\n",
       "    <tr>\n",
       "      <th>4201</th>\n",
       "      <td>看不够！科比生涯百大表演。</td>\n",
       "      <td>2015-12-26</td>\n",
       "      <td>http://mp.weixin.qq.com/s?__biz=MzI2NDAzOTAzMA...</td>\n",
       "    </tr>\n",
       "  </tbody>\n",
       "</table>\n",
       "</div>"
      ],
      "text/plain": [
       "                                    title create_time  \\\n",
       "4197             也许是你不知道的过人高手，个人超喜欢的矮个控位！  2017-06-29   \n",
       "4198  最纯粹的篮球，Jaythan Bosch叫板Julian Newman  2017-06-28   \n",
       "4199               现场看NBA是什么感觉？这个视频会给你答案。  2016-02-13   \n",
       "4200                       欧文风骚转身合集，看湿了吗?  2016-01-19   \n",
       "4201                        看不够！科比生涯百大表演。  2015-12-26   \n",
       "\n",
       "                                                   link  \n",
       "4197  http://mp.weixin.qq.com/s?__biz=MzI2NDAzOTAzMA...  \n",
       "4198  http://mp.weixin.qq.com/s?__biz=MzI2NDAzOTAzMA...  \n",
       "4199  http://mp.weixin.qq.com/s?__biz=MzI2NDAzOTAzMA...  \n",
       "4200  http://mp.weixin.qq.com/s?__biz=MzI2NDAzOTAzMA...  \n",
       "4201  http://mp.weixin.qq.com/s?__biz=MzI2NDAzOTAzMA...  "
      ]
     },
     "execution_count": 68,
     "metadata": {},
     "output_type": "execute_result"
    }
   ],
   "source": [
    "# 查看后五篇文章\n",
    "df_url_out.tail(5)"
   ]
  },
  {
   "cell_type": "code",
   "execution_count": 69,
   "metadata": {},
   "outputs": [
    {
     "data": {
      "text/html": [
       "<div>\n",
       "<style scoped>\n",
       "    .dataframe tbody tr th:only-of-type {\n",
       "        vertical-align: middle;\n",
       "    }\n",
       "\n",
       "    .dataframe tbody tr th {\n",
       "        vertical-align: top;\n",
       "    }\n",
       "\n",
       "    .dataframe thead th {\n",
       "        text-align: right;\n",
       "    }\n",
       "</style>\n",
       "<table border=\"1\" class=\"dataframe\">\n",
       "  <thead>\n",
       "    <tr style=\"text-align: right;\">\n",
       "      <th></th>\n",
       "      <th>title</th>\n",
       "      <th>create_time</th>\n",
       "      <th>link</th>\n",
       "    </tr>\n",
       "    <tr>\n",
       "      <th>value</th>\n",
       "      <th></th>\n",
       "      <th></th>\n",
       "      <th></th>\n",
       "    </tr>\n",
       "  </thead>\n",
       "  <tbody>\n",
       "    <tr>\n",
       "      <th>1</th>\n",
       "      <td>快到看不清！这波操作我可以看5遍！</td>\n",
       "      <td>2020-05-14</td>\n",
       "      <td>http://mp.weixin.qq.com/s?__biz=MzI2NDAzOTAzMA...</td>\n",
       "    </tr>\n",
       "    <tr>\n",
       "      <th>2</th>\n",
       "      <td>初代欧洲魔术师？他打球太华丽了！</td>\n",
       "      <td>2020-05-14</td>\n",
       "      <td>http://mp.weixin.qq.com/s?__biz=MzI2NDAzOTAzMA...</td>\n",
       "    </tr>\n",
       "    <tr>\n",
       "      <th>3</th>\n",
       "      <td>巅峰麦迪对飚乔丹，这比赛有点好看！</td>\n",
       "      <td>2020-05-14</td>\n",
       "      <td>http://mp.weixin.qq.com/s?__biz=MzI2NDAzOTAzMA...</td>\n",
       "    </tr>\n",
       "    <tr>\n",
       "      <th>4</th>\n",
       "      <td>血布的防守什么水平？这切球太犀利了！</td>\n",
       "      <td>2020-05-14</td>\n",
       "      <td>http://mp.weixin.qq.com/s?__biz=MzI2NDAzOTAzMA...</td>\n",
       "    </tr>\n",
       "    <tr>\n",
       "      <th>5</th>\n",
       "      <td>尼克斯时期的瓜哥是怎么打球的？进攻万花筒，太难防了！</td>\n",
       "      <td>2020-05-13</td>\n",
       "      <td>http://mp.weixin.qq.com/s?__biz=MzI2NDAzOTAzMA...</td>\n",
       "    </tr>\n",
       "    <tr>\n",
       "      <th>...</th>\n",
       "      <td>...</td>\n",
       "      <td>...</td>\n",
       "      <td>...</td>\n",
       "    </tr>\n",
       "    <tr>\n",
       "      <th>4193</th>\n",
       "      <td>联盟变得太快！曾经的60胜东部第一，如今已经完全解体。</td>\n",
       "      <td>2017-07-03</td>\n",
       "      <td>http://mp.weixin.qq.com/s?__biz=MzI2NDAzOTAzMA...</td>\n",
       "    </tr>\n",
       "    <tr>\n",
       "      <th>4194</th>\n",
       "      <td>小丁夏季联赛首秀，就是刚！</td>\n",
       "      <td>2017-07-02</td>\n",
       "      <td>http://mp.weixin.qq.com/s?__biz=MzI2NDAzOTAzMA...</td>\n",
       "    </tr>\n",
       "    <tr>\n",
       "      <th>4195</th>\n",
       "      <td>去了就不要回来了，大魔王即将登陆NBA。</td>\n",
       "      <td>2017-07-02</td>\n",
       "      <td>http://mp.weixin.qq.com/s?__biz=MzI2NDAzOTAzMA...</td>\n",
       "    </tr>\n",
       "    <tr>\n",
       "      <th>4199</th>\n",
       "      <td>现场看NBA是什么感觉？这个视频会给你答案。</td>\n",
       "      <td>2016-02-13</td>\n",
       "      <td>http://mp.weixin.qq.com/s?__biz=MzI2NDAzOTAzMA...</td>\n",
       "    </tr>\n",
       "    <tr>\n",
       "      <th>4200</th>\n",
       "      <td>欧文风骚转身合集，看湿了吗?</td>\n",
       "      <td>2016-01-19</td>\n",
       "      <td>http://mp.weixin.qq.com/s?__biz=MzI2NDAzOTAzMA...</td>\n",
       "    </tr>\n",
       "  </tbody>\n",
       "</table>\n",
       "<p>3209 rows × 3 columns</p>\n",
       "</div>"
      ],
      "text/plain": [
       "                             title create_time  \\\n",
       "value                                            \n",
       "1                快到看不清！这波操作我可以看5遍！  2020-05-14   \n",
       "2                 初代欧洲魔术师？他打球太华丽了！  2020-05-14   \n",
       "3                巅峰麦迪对飚乔丹，这比赛有点好看！  2020-05-14   \n",
       "4               血布的防守什么水平？这切球太犀利了！  2020-05-14   \n",
       "5       尼克斯时期的瓜哥是怎么打球的？进攻万花筒，太难防了！  2020-05-13   \n",
       "...                            ...         ...   \n",
       "4193   联盟变得太快！曾经的60胜东部第一，如今已经完全解体。  2017-07-03   \n",
       "4194                 小丁夏季联赛首秀，就是刚！  2017-07-02   \n",
       "4195          去了就不要回来了，大魔王即将登陆NBA。  2017-07-02   \n",
       "4199        现场看NBA是什么感觉？这个视频会给你答案。  2016-02-13   \n",
       "4200                欧文风骚转身合集，看湿了吗?  2016-01-19   \n",
       "\n",
       "                                                    link  \n",
       "value                                                     \n",
       "1      http://mp.weixin.qq.com/s?__biz=MzI2NDAzOTAzMA...  \n",
       "2      http://mp.weixin.qq.com/s?__biz=MzI2NDAzOTAzMA...  \n",
       "3      http://mp.weixin.qq.com/s?__biz=MzI2NDAzOTAzMA...  \n",
       "4      http://mp.weixin.qq.com/s?__biz=MzI2NDAzOTAzMA...  \n",
       "5      http://mp.weixin.qq.com/s?__biz=MzI2NDAzOTAzMA...  \n",
       "...                                                  ...  \n",
       "4193   http://mp.weixin.qq.com/s?__biz=MzI2NDAzOTAzMA...  \n",
       "4194   http://mp.weixin.qq.com/s?__biz=MzI2NDAzOTAzMA...  \n",
       "4195   http://mp.weixin.qq.com/s?__biz=MzI2NDAzOTAzMA...  \n",
       "4199   http://mp.weixin.qq.com/s?__biz=MzI2NDAzOTAzMA...  \n",
       "4200   http://mp.weixin.qq.com/s?__biz=MzI2NDAzOTAzMA...  \n",
       "\n",
       "[3209 rows x 3 columns]"
      ]
     },
     "execution_count": 69,
     "metadata": {},
     "output_type": "execute_result"
    }
   ],
   "source": [
    "# tagging 标记\n",
    "tagging_list = [\"\",\"科比\", \"詹姆斯\", \"杜兰特\",\"库里\",\"哈登\",\"易建联\",\"字母哥\",\"We Remit\",\\\n",
    "                \"总冠军\",\"总决赛\",\\\n",
    "                \"mvp\",\"技巧\",\"国人\",\"过人\",\"QQ\",\\\n",
    "                \"只有一\",\"大咖\",\"听说\",\"图片\",\"照片\",\"小编\",\\\n",
    "                \"洛杉矶\", \"纽约\",\"金州\",\"cba\",\"最佳第六人\", \"女友\",\"神秘兼职\",\"神秘组织\",\\\n",
    "                \"明星\", \"品牌\",\\\n",
    "                \"篮球\",\\\n",
    "                \"世界杯\",\\\n",
    "                \"转会\",\"加盟\",\"选修\",\"选秀\",\"状元\",\\\n",
    "                \"区块链\",\"金融云\",\"O2O\",\"农产品\",\"家乡\",\\\n",
    "                \"数据\", \"数据赋能\", \"智能\", \"数字孪生\", \"智慧大脑\",\\\n",
    "                \"出行\",\"乘车\",\"公交\",\"乘车码\", \"智慧地铁\",\\\n",
    "                \"高峰论坛\", \"智库\",\\\n",
    "                \"央行\",\"新规\", \\\n",
    "                \"微信\", \"微信支付\", \"跨境支付\", \"移动支付\",\"非银行支付\",\"电子支付\",\\\n",
    "                \"互联网金融\", \"金融科技\",\"互联网＋\",\"互联网+金融\",\"普惠金融\",\"虚拟银行\",\\\n",
    "                \"开放\",\"生态\",\"复杂\",\"互联网思维\",\"全球合作伙伴\",\\\n",
    "                \"联合国\", \"城市\", \"粤港澳大湾区\", \"平台\", \"可持续发展\", \"未来\", \"绿色\",\\\n",
    "                \"医护\",\"防护服\",\"小时\",\"武汉\",\"危机\",\"新冠肺炎\", \"疫\", \"疫情\", \"复工\",\"停课\",\"宅经济\",\\\n",
    "                \"基建\",\"新基建\"] #overwritable\n",
    "\n",
    "v_v_list = []\n",
    "\n",
    "for tag in tagging_list:\n",
    "    index_list = df_url_out [ df_url_out.title.str.contains(tag) ].index.tolist()\n",
    "    v_v_pairs = pd.DataFrame({tag:index_list}).melt().set_index(\"value\")\n",
    "    v_v_list.append(v_v_pairs)\n",
    "\n",
    "df_cat = v_v_list[0]\n",
    "for d in v_v_list:\n",
    "    df_cat.update(d)\n",
    "    \n",
    "# 尚未标记内容\n",
    "df_url_out.loc [ df_cat.query('variable==\"\"').index ]"
   ]
  },
  {
   "cell_type": "code",
   "execution_count": 70,
   "metadata": {},
   "outputs": [
    {
     "data": {
      "text/plain": [
       "'http://mp.weixin.qq.com/s?__biz=MzI2NDAzOTAzMA==&mid=2649363893&idx=4&sn=9861dae135018420fc4c123596d6b46a&chksm=f2ac0aacc5db83ba3ae2149f8438d005cb5718ea31e349fd9bc02e1a309b58648cd98f905b94#rd'"
      ]
     },
     "execution_count": 70,
     "metadata": {},
     "output_type": "execute_result"
    }
   ],
   "source": [
    "df_url_out.loc[53].link"
   ]
  },
  {
   "cell_type": "code",
   "execution_count": 71,
   "metadata": {},
   "outputs": [
    {
     "data": {
      "text/html": [
       "<div>\n",
       "<style scoped>\n",
       "    .dataframe tbody tr th:only-of-type {\n",
       "        vertical-align: middle;\n",
       "    }\n",
       "\n",
       "    .dataframe tbody tr th {\n",
       "        vertical-align: top;\n",
       "    }\n",
       "\n",
       "    .dataframe thead th {\n",
       "        text-align: right;\n",
       "    }\n",
       "</style>\n",
       "<table border=\"1\" class=\"dataframe\">\n",
       "  <thead>\n",
       "    <tr style=\"text-align: right;\">\n",
       "      <th></th>\n",
       "      <th>title</th>\n",
       "      <th>create_time</th>\n",
       "      <th>link</th>\n",
       "    </tr>\n",
       "  </thead>\n",
       "  <tbody>\n",
       "    <tr>\n",
       "      <th>275</th>\n",
       "      <td>九冠王华侨大学主控，这就是灌篮实力圈粉，彭凌的球风相当好看！</td>\n",
       "      <td>2020-03-19</td>\n",
       "      <td>http://mp.weixin.qq.com/s?__biz=MzI2NDAzOTAzMA...</td>\n",
       "    </tr>\n",
       "    <tr>\n",
       "      <th>276</th>\n",
       "      <td>每一球都可以看5遍！保罗这过人真是赏心悦目！</td>\n",
       "      <td>2020-03-19</td>\n",
       "      <td>http://mp.weixin.qq.com/s?__biz=MzI2NDAzOTAzMA...</td>\n",
       "    </tr>\n",
       "    <tr>\n",
       "      <th>277</th>\n",
       "      <td>左手应该怎么练？这个教程让你事半功倍！</td>\n",
       "      <td>2020-03-19</td>\n",
       "      <td>http://mp.weixin.qq.com/s?__biz=MzI2NDAzOTAzMA...</td>\n",
       "    </tr>\n",
       "    <tr>\n",
       "      <th>278</th>\n",
       "      <td>库里的完整投篮训练是什么样的？这个视频你必须收藏！</td>\n",
       "      <td>2020-03-19</td>\n",
       "      <td>http://mp.weixin.qq.com/s?__biz=MzI2NDAzOTAzMA...</td>\n",
       "    </tr>\n",
       "    <tr>\n",
       "      <th>279</th>\n",
       "      <td>会飞的坦克车！越来越喜欢看胖虎打球了！</td>\n",
       "      <td>2020-03-19</td>\n",
       "      <td>http://mp.weixin.qq.com/s?__biz=MzI2NDAzOTAzMA...</td>\n",
       "    </tr>\n",
       "    <tr>\n",
       "      <th>280</th>\n",
       "      <td>还记得和德文训练的这对亚裔兄弟吗？单挑训练师KP，太好看了！</td>\n",
       "      <td>2020-03-18</td>\n",
       "      <td>http://mp.weixin.qq.com/s?__biz=MzI2NDAzOTAzMA...</td>\n",
       "    </tr>\n",
       "    <tr>\n",
       "      <th>281</th>\n",
       "      <td>坎帕佐最新实战集锦，矮个生存之道！</td>\n",
       "      <td>2020-03-18</td>\n",
       "      <td>http://mp.weixin.qq.com/s?__biz=MzI2NDAzOTAzMA...</td>\n",
       "    </tr>\n",
       "    <tr>\n",
       "      <th>282</th>\n",
       "      <td>斯玛特的防守什么水平？太燃了吧！</td>\n",
       "      <td>2020-03-18</td>\n",
       "      <td>http://mp.weixin.qq.com/s?__biz=MzI2NDAzOTAzMA...</td>\n",
       "    </tr>\n",
       "    <tr>\n",
       "      <th>283</th>\n",
       "      <td>三图流，看看肯巴沃克是怎样过掉大半个马刺队的！</td>\n",
       "      <td>2020-03-18</td>\n",
       "      <td>http://mp.weixin.qq.com/s?__biz=MzI2NDAzOTAzMA...</td>\n",
       "    </tr>\n",
       "    <tr>\n",
       "      <th>284</th>\n",
       "      <td>安东尼大战JR史密斯，这样的单挑太好看！</td>\n",
       "      <td>2020-03-18</td>\n",
       "      <td>http://mp.weixin.qq.com/s?__biz=MzI2NDAzOTAzMA...</td>\n",
       "    </tr>\n",
       "    <tr>\n",
       "      <th>285</th>\n",
       "      <td>还记得米奇吗？布朗尼的前大腿级队友，单场77分，他又变强了！</td>\n",
       "      <td>2020-03-17</td>\n",
       "      <td>http://mp.weixin.qq.com/s?__biz=MzI2NDAzOTAzMA...</td>\n",
       "    </tr>\n",
       "    <tr>\n",
       "      <th>286</th>\n",
       "      <td>莫兰特上SLAM封面了！这组照片有点帅</td>\n",
       "      <td>2020-03-17</td>\n",
       "      <td>http://mp.weixin.qq.com/s?__biz=MzI2NDAzOTAzMA...</td>\n",
       "    </tr>\n",
       "    <tr>\n",
       "      <th>287</th>\n",
       "      <td>赏心悦目的控球！看克劳福德打球绝对是一种享受！</td>\n",
       "      <td>2020-03-17</td>\n",
       "      <td>http://mp.weixin.qq.com/s?__biz=MzI2NDAzOTAzMA...</td>\n",
       "    </tr>\n",
       "    <tr>\n",
       "      <th>288</th>\n",
       "      <td>袜子版三分大赛，吹羊真的太准了！</td>\n",
       "      <td>2020-03-17</td>\n",
       "      <td>http://mp.weixin.qq.com/s?__biz=MzI2NDAzOTAzMA...</td>\n",
       "    </tr>\n",
       "    <tr>\n",
       "      <th>289</th>\n",
       "      <td>in&amp;out搭配转头！肯巴沃克这记过人可以看7遍！</td>\n",
       "      <td>2020-03-17</td>\n",
       "      <td>http://mp.weixin.qq.com/s?__biz=MzI2NDAzOTAzMA...</td>\n",
       "    </tr>\n",
       "    <tr>\n",
       "      <th>290</th>\n",
       "      <td>想蹭总冠军，却落得无球可打？德隆威廉姆斯在NBA最后的日子！</td>\n",
       "      <td>2020-03-16</td>\n",
       "      <td>http://mp.weixin.qq.com/s?__biz=MzI2NDAzOTAzMA...</td>\n",
       "    </tr>\n",
       "    <tr>\n",
       "      <th>291</th>\n",
       "      <td>忍不住跳了，德文的拜佛真的太舒服了！</td>\n",
       "      <td>2020-03-16</td>\n",
       "      <td>http://mp.weixin.qq.com/s?__biz=MzI2NDAzOTAzMA...</td>\n",
       "    </tr>\n",
       "    <tr>\n",
       "      <th>292</th>\n",
       "      <td>火锅盛宴！这些盖帽也太燃了吧！</td>\n",
       "      <td>2020-03-16</td>\n",
       "      <td>http://mp.weixin.qq.com/s?__biz=MzI2NDAzOTAzMA...</td>\n",
       "    </tr>\n",
       "    <tr>\n",
       "      <th>293</th>\n",
       "      <td>哈特和韦德一起训练了，这些方法可以参考！</td>\n",
       "      <td>2020-03-16</td>\n",
       "      <td>http://mp.weixin.qq.com/s?__biz=MzI2NDAzOTAzMA...</td>\n",
       "    </tr>\n",
       "    <tr>\n",
       "      <th>294</th>\n",
       "      <td>NBA后卫是如何热身的，这控球真的秀出天际！</td>\n",
       "      <td>2020-03-16</td>\n",
       "      <td>http://mp.weixin.qq.com/s?__biz=MzI2NDAzOTAzMA...</td>\n",
       "    </tr>\n",
       "    <tr>\n",
       "      <th>295</th>\n",
       "      <td>还记得小腿像麦迪的他吗？如今已经是全美第一高中生了！</td>\n",
       "      <td>2020-03-15</td>\n",
       "      <td>http://mp.weixin.qq.com/s?__biz=MzI2NDAzOTAzMA...</td>\n",
       "    </tr>\n",
       "    <tr>\n",
       "      <th>296</th>\n",
       "      <td>只要29元 ！全网最好的增强弱侧手教程，让你双手玩球菜鸡变大神</td>\n",
       "      <td>2020-03-15</td>\n",
       "      <td>http://mp.weixin.qq.com/s?__biz=MzI2NDAzOTAzMA...</td>\n",
       "    </tr>\n",
       "    <tr>\n",
       "      <th>297</th>\n",
       "      <td>The Comeback！老詹这个微电影有点燃！</td>\n",
       "      <td>2020-03-15</td>\n",
       "      <td>http://mp.weixin.qq.com/s?__biz=MzI2NDAzOTAzMA...</td>\n",
       "    </tr>\n",
       "    <tr>\n",
       "      <th>298</th>\n",
       "      <td>稳坐塞拉峡谷高中首发，余嘉豪还在进步！</td>\n",
       "      <td>2020-03-15</td>\n",
       "      <td>http://mp.weixin.qq.com/s?__biz=MzI2NDAzOTAzMA...</td>\n",
       "    </tr>\n",
       "    <tr>\n",
       "      <th>299</th>\n",
       "      <td>乔丹这记后仰，我也就看了6遍！</td>\n",
       "      <td>2020-03-15</td>\n",
       "      <td>http://mp.weixin.qq.com/s?__biz=MzI2NDAzOTAzMA...</td>\n",
       "    </tr>\n",
       "  </tbody>\n",
       "</table>\n",
       "</div>"
      ],
      "text/plain": [
       "                               title create_time  \\\n",
       "275   九冠王华侨大学主控，这就是灌篮实力圈粉，彭凌的球风相当好看！  2020-03-19   \n",
       "276           每一球都可以看5遍！保罗这过人真是赏心悦目！  2020-03-19   \n",
       "277              左手应该怎么练？这个教程让你事半功倍！  2020-03-19   \n",
       "278        库里的完整投篮训练是什么样的？这个视频你必须收藏！  2020-03-19   \n",
       "279              会飞的坦克车！越来越喜欢看胖虎打球了！  2020-03-19   \n",
       "280   还记得和德文训练的这对亚裔兄弟吗？单挑训练师KP，太好看了！  2020-03-18   \n",
       "281                坎帕佐最新实战集锦，矮个生存之道！  2020-03-18   \n",
       "282                 斯玛特的防守什么水平？太燃了吧！  2020-03-18   \n",
       "283          三图流，看看肯巴沃克是怎样过掉大半个马刺队的！  2020-03-18   \n",
       "284             安东尼大战JR史密斯，这样的单挑太好看！  2020-03-18   \n",
       "285   还记得米奇吗？布朗尼的前大腿级队友，单场77分，他又变强了！  2020-03-17   \n",
       "286              莫兰特上SLAM封面了！这组照片有点帅  2020-03-17   \n",
       "287          赏心悦目的控球！看克劳福德打球绝对是一种享受！  2020-03-17   \n",
       "288                 袜子版三分大赛，吹羊真的太准了！  2020-03-17   \n",
       "289        in&out搭配转头！肯巴沃克这记过人可以看7遍！  2020-03-17   \n",
       "290   想蹭总冠军，却落得无球可打？德隆威廉姆斯在NBA最后的日子！  2020-03-16   \n",
       "291               忍不住跳了，德文的拜佛真的太舒服了！  2020-03-16   \n",
       "292                  火锅盛宴！这些盖帽也太燃了吧！  2020-03-16   \n",
       "293             哈特和韦德一起训练了，这些方法可以参考！  2020-03-16   \n",
       "294           NBA后卫是如何热身的，这控球真的秀出天际！  2020-03-16   \n",
       "295       还记得小腿像麦迪的他吗？如今已经是全美第一高中生了！  2020-03-15   \n",
       "296  只要29元 ！全网最好的增强弱侧手教程，让你双手玩球菜鸡变大神  2020-03-15   \n",
       "297         The Comeback！老詹这个微电影有点燃！  2020-03-15   \n",
       "298              稳坐塞拉峡谷高中首发，余嘉豪还在进步！  2020-03-15   \n",
       "299                  乔丹这记后仰，我也就看了6遍！  2020-03-15   \n",
       "\n",
       "                                                  link  \n",
       "275  http://mp.weixin.qq.com/s?__biz=MzI2NDAzOTAzMA...  \n",
       "276  http://mp.weixin.qq.com/s?__biz=MzI2NDAzOTAzMA...  \n",
       "277  http://mp.weixin.qq.com/s?__biz=MzI2NDAzOTAzMA...  \n",
       "278  http://mp.weixin.qq.com/s?__biz=MzI2NDAzOTAzMA...  \n",
       "279  http://mp.weixin.qq.com/s?__biz=MzI2NDAzOTAzMA...  \n",
       "280  http://mp.weixin.qq.com/s?__biz=MzI2NDAzOTAzMA...  \n",
       "281  http://mp.weixin.qq.com/s?__biz=MzI2NDAzOTAzMA...  \n",
       "282  http://mp.weixin.qq.com/s?__biz=MzI2NDAzOTAzMA...  \n",
       "283  http://mp.weixin.qq.com/s?__biz=MzI2NDAzOTAzMA...  \n",
       "284  http://mp.weixin.qq.com/s?__biz=MzI2NDAzOTAzMA...  \n",
       "285  http://mp.weixin.qq.com/s?__biz=MzI2NDAzOTAzMA...  \n",
       "286  http://mp.weixin.qq.com/s?__biz=MzI2NDAzOTAzMA...  \n",
       "287  http://mp.weixin.qq.com/s?__biz=MzI2NDAzOTAzMA...  \n",
       "288  http://mp.weixin.qq.com/s?__biz=MzI2NDAzOTAzMA...  \n",
       "289  http://mp.weixin.qq.com/s?__biz=MzI2NDAzOTAzMA...  \n",
       "290  http://mp.weixin.qq.com/s?__biz=MzI2NDAzOTAzMA...  \n",
       "291  http://mp.weixin.qq.com/s?__biz=MzI2NDAzOTAzMA...  \n",
       "292  http://mp.weixin.qq.com/s?__biz=MzI2NDAzOTAzMA...  \n",
       "293  http://mp.weixin.qq.com/s?__biz=MzI2NDAzOTAzMA...  \n",
       "294  http://mp.weixin.qq.com/s?__biz=MzI2NDAzOTAzMA...  \n",
       "295  http://mp.weixin.qq.com/s?__biz=MzI2NDAzOTAzMA...  \n",
       "296  http://mp.weixin.qq.com/s?__biz=MzI2NDAzOTAzMA...  \n",
       "297  http://mp.weixin.qq.com/s?__biz=MzI2NDAzOTAzMA...  \n",
       "298  http://mp.weixin.qq.com/s?__biz=MzI2NDAzOTAzMA...  \n",
       "299  http://mp.weixin.qq.com/s?__biz=MzI2NDAzOTAzMA...  "
      ]
     },
     "execution_count": 71,
     "metadata": {},
     "output_type": "execute_result"
    }
   ],
   "source": [
    "df_url_out[df_url_out.duplicated()]"
   ]
  },
  {
   "cell_type": "code",
   "execution_count": 72,
   "metadata": {},
   "outputs": [
    {
     "data": {
      "text/html": [
       "<div>\n",
       "<style scoped>\n",
       "    .dataframe tbody tr th:only-of-type {\n",
       "        vertical-align: middle;\n",
       "    }\n",
       "\n",
       "    .dataframe tbody tr th {\n",
       "        vertical-align: top;\n",
       "    }\n",
       "\n",
       "    .dataframe thead th {\n",
       "        text-align: right;\n",
       "    }\n",
       "</style>\n",
       "<table border=\"1\" class=\"dataframe\">\n",
       "  <thead>\n",
       "    <tr style=\"text-align: right;\">\n",
       "      <th></th>\n",
       "      <th>title</th>\n",
       "      <th>create_time</th>\n",
       "      <th>link</th>\n",
       "    </tr>\n",
       "  </thead>\n",
       "  <tbody>\n",
       "    <tr>\n",
       "      <th>0</th>\n",
       "      <td>保罗过去5年最炸的过人都在这里了！小打大教科书，喜欢看他打球吗？</td>\n",
       "      <td>2020-05-14</td>\n",
       "      <td>http://mp.weixin.qq.com/s?__biz=MzI2NDAzOTAzMA...</td>\n",
       "    </tr>\n",
       "    <tr>\n",
       "      <th>1</th>\n",
       "      <td>快到看不清！这波操作我可以看5遍！</td>\n",
       "      <td>2020-05-14</td>\n",
       "      <td>http://mp.weixin.qq.com/s?__biz=MzI2NDAzOTAzMA...</td>\n",
       "    </tr>\n",
       "    <tr>\n",
       "      <th>2</th>\n",
       "      <td>初代欧洲魔术师？他打球太华丽了！</td>\n",
       "      <td>2020-05-14</td>\n",
       "      <td>http://mp.weixin.qq.com/s?__biz=MzI2NDAzOTAzMA...</td>\n",
       "    </tr>\n",
       "    <tr>\n",
       "      <th>3</th>\n",
       "      <td>巅峰麦迪对飚乔丹，这比赛有点好看！</td>\n",
       "      <td>2020-05-14</td>\n",
       "      <td>http://mp.weixin.qq.com/s?__biz=MzI2NDAzOTAzMA...</td>\n",
       "    </tr>\n",
       "    <tr>\n",
       "      <th>4</th>\n",
       "      <td>血布的防守什么水平？这切球太犀利了！</td>\n",
       "      <td>2020-05-14</td>\n",
       "      <td>http://mp.weixin.qq.com/s?__biz=MzI2NDAzOTAzMA...</td>\n",
       "    </tr>\n",
       "    <tr>\n",
       "      <th>...</th>\n",
       "      <td>...</td>\n",
       "      <td>...</td>\n",
       "      <td>...</td>\n",
       "    </tr>\n",
       "    <tr>\n",
       "      <th>4197</th>\n",
       "      <td>也许是你不知道的过人高手，个人超喜欢的矮个控位！</td>\n",
       "      <td>2017-06-29</td>\n",
       "      <td>http://mp.weixin.qq.com/s?__biz=MzI2NDAzOTAzMA...</td>\n",
       "    </tr>\n",
       "    <tr>\n",
       "      <th>4198</th>\n",
       "      <td>最纯粹的篮球，Jaythan Bosch叫板Julian Newman</td>\n",
       "      <td>2017-06-28</td>\n",
       "      <td>http://mp.weixin.qq.com/s?__biz=MzI2NDAzOTAzMA...</td>\n",
       "    </tr>\n",
       "    <tr>\n",
       "      <th>4199</th>\n",
       "      <td>现场看NBA是什么感觉？这个视频会给你答案。</td>\n",
       "      <td>2016-02-13</td>\n",
       "      <td>http://mp.weixin.qq.com/s?__biz=MzI2NDAzOTAzMA...</td>\n",
       "    </tr>\n",
       "    <tr>\n",
       "      <th>4200</th>\n",
       "      <td>欧文风骚转身合集，看湿了吗?</td>\n",
       "      <td>2016-01-19</td>\n",
       "      <td>http://mp.weixin.qq.com/s?__biz=MzI2NDAzOTAzMA...</td>\n",
       "    </tr>\n",
       "    <tr>\n",
       "      <th>4201</th>\n",
       "      <td>看不够！科比生涯百大表演。</td>\n",
       "      <td>2015-12-26</td>\n",
       "      <td>http://mp.weixin.qq.com/s?__biz=MzI2NDAzOTAzMA...</td>\n",
       "    </tr>\n",
       "  </tbody>\n",
       "</table>\n",
       "<p>4177 rows × 3 columns</p>\n",
       "</div>"
      ],
      "text/plain": [
       "                                    title create_time  \\\n",
       "0        保罗过去5年最炸的过人都在这里了！小打大教科书，喜欢看他打球吗？  2020-05-14   \n",
       "1                       快到看不清！这波操作我可以看5遍！  2020-05-14   \n",
       "2                        初代欧洲魔术师？他打球太华丽了！  2020-05-14   \n",
       "3                       巅峰麦迪对飚乔丹，这比赛有点好看！  2020-05-14   \n",
       "4                      血布的防守什么水平？这切球太犀利了！  2020-05-14   \n",
       "...                                   ...         ...   \n",
       "4197             也许是你不知道的过人高手，个人超喜欢的矮个控位！  2017-06-29   \n",
       "4198  最纯粹的篮球，Jaythan Bosch叫板Julian Newman  2017-06-28   \n",
       "4199               现场看NBA是什么感觉？这个视频会给你答案。  2016-02-13   \n",
       "4200                       欧文风骚转身合集，看湿了吗?  2016-01-19   \n",
       "4201                        看不够！科比生涯百大表演。  2015-12-26   \n",
       "\n",
       "                                                   link  \n",
       "0     http://mp.weixin.qq.com/s?__biz=MzI2NDAzOTAzMA...  \n",
       "1     http://mp.weixin.qq.com/s?__biz=MzI2NDAzOTAzMA...  \n",
       "2     http://mp.weixin.qq.com/s?__biz=MzI2NDAzOTAzMA...  \n",
       "3     http://mp.weixin.qq.com/s?__biz=MzI2NDAzOTAzMA...  \n",
       "4     http://mp.weixin.qq.com/s?__biz=MzI2NDAzOTAzMA...  \n",
       "...                                                 ...  \n",
       "4197  http://mp.weixin.qq.com/s?__biz=MzI2NDAzOTAzMA...  \n",
       "4198  http://mp.weixin.qq.com/s?__biz=MzI2NDAzOTAzMA...  \n",
       "4199  http://mp.weixin.qq.com/s?__biz=MzI2NDAzOTAzMA...  \n",
       "4200  http://mp.weixin.qq.com/s?__biz=MzI2NDAzOTAzMA...  \n",
       "4201  http://mp.weixin.qq.com/s?__biz=MzI2NDAzOTAzMA...  \n",
       "\n",
       "[4177 rows x 3 columns]"
      ]
     },
     "execution_count": 72,
     "metadata": {},
     "output_type": "execute_result"
    }
   ],
   "source": [
    "df_url_out[~df_url_out.duplicated()]"
   ]
  },
  {
   "cell_type": "code",
   "execution_count": 73,
   "metadata": {},
   "outputs": [
    {
     "data": {
      "text/html": [
       "<div>\n",
       "<style scoped>\n",
       "    .dataframe tbody tr th:only-of-type {\n",
       "        vertical-align: middle;\n",
       "    }\n",
       "\n",
       "    .dataframe tbody tr th {\n",
       "        vertical-align: top;\n",
       "    }\n",
       "\n",
       "    .dataframe thead th {\n",
       "        text-align: right;\n",
       "    }\n",
       "</style>\n",
       "<table border=\"1\" class=\"dataframe\">\n",
       "  <thead>\n",
       "    <tr style=\"text-align: right;\">\n",
       "      <th></th>\n",
       "      <th>title</th>\n",
       "      <th>create_time</th>\n",
       "      <th>link</th>\n",
       "      <th>variable</th>\n",
       "    </tr>\n",
       "  </thead>\n",
       "  <tbody>\n",
       "    <tr>\n",
       "      <th>0</th>\n",
       "      <td>保罗过去5年最炸的过人都在这里了！小打大教科书，喜欢看他打球吗？</td>\n",
       "      <td>2020-05-14</td>\n",
       "      <td>http://mp.weixin.qq.com/s?__biz=MzI2NDAzOTAzMA...</td>\n",
       "      <td>过人</td>\n",
       "    </tr>\n",
       "    <tr>\n",
       "      <th>1</th>\n",
       "      <td>快到看不清！这波操作我可以看5遍！</td>\n",
       "      <td>2020-05-14</td>\n",
       "      <td>http://mp.weixin.qq.com/s?__biz=MzI2NDAzOTAzMA...</td>\n",
       "      <td>无法分类</td>\n",
       "    </tr>\n",
       "    <tr>\n",
       "      <th>2</th>\n",
       "      <td>初代欧洲魔术师？他打球太华丽了！</td>\n",
       "      <td>2020-05-14</td>\n",
       "      <td>http://mp.weixin.qq.com/s?__biz=MzI2NDAzOTAzMA...</td>\n",
       "      <td>无法分类</td>\n",
       "    </tr>\n",
       "    <tr>\n",
       "      <th>3</th>\n",
       "      <td>巅峰麦迪对飚乔丹，这比赛有点好看！</td>\n",
       "      <td>2020-05-14</td>\n",
       "      <td>http://mp.weixin.qq.com/s?__biz=MzI2NDAzOTAzMA...</td>\n",
       "      <td>无法分类</td>\n",
       "    </tr>\n",
       "    <tr>\n",
       "      <th>4</th>\n",
       "      <td>血布的防守什么水平？这切球太犀利了！</td>\n",
       "      <td>2020-05-14</td>\n",
       "      <td>http://mp.weixin.qq.com/s?__biz=MzI2NDAzOTAzMA...</td>\n",
       "      <td>无法分类</td>\n",
       "    </tr>\n",
       "    <tr>\n",
       "      <th>...</th>\n",
       "      <td>...</td>\n",
       "      <td>...</td>\n",
       "      <td>...</td>\n",
       "      <td>...</td>\n",
       "    </tr>\n",
       "    <tr>\n",
       "      <th>4197</th>\n",
       "      <td>也许是你不知道的过人高手，个人超喜欢的矮个控位！</td>\n",
       "      <td>2017-06-29</td>\n",
       "      <td>http://mp.weixin.qq.com/s?__biz=MzI2NDAzOTAzMA...</td>\n",
       "      <td>过人</td>\n",
       "    </tr>\n",
       "    <tr>\n",
       "      <th>4198</th>\n",
       "      <td>最纯粹的篮球，Jaythan Bosch叫板Julian Newman</td>\n",
       "      <td>2017-06-28</td>\n",
       "      <td>http://mp.weixin.qq.com/s?__biz=MzI2NDAzOTAzMA...</td>\n",
       "      <td>篮球</td>\n",
       "    </tr>\n",
       "    <tr>\n",
       "      <th>4199</th>\n",
       "      <td>现场看NBA是什么感觉？这个视频会给你答案。</td>\n",
       "      <td>2016-02-13</td>\n",
       "      <td>http://mp.weixin.qq.com/s?__biz=MzI2NDAzOTAzMA...</td>\n",
       "      <td>无法分类</td>\n",
       "    </tr>\n",
       "    <tr>\n",
       "      <th>4200</th>\n",
       "      <td>欧文风骚转身合集，看湿了吗?</td>\n",
       "      <td>2016-01-19</td>\n",
       "      <td>http://mp.weixin.qq.com/s?__biz=MzI2NDAzOTAzMA...</td>\n",
       "      <td>无法分类</td>\n",
       "    </tr>\n",
       "    <tr>\n",
       "      <th>4201</th>\n",
       "      <td>看不够！科比生涯百大表演。</td>\n",
       "      <td>2015-12-26</td>\n",
       "      <td>http://mp.weixin.qq.com/s?__biz=MzI2NDAzOTAzMA...</td>\n",
       "      <td>科比</td>\n",
       "    </tr>\n",
       "  </tbody>\n",
       "</table>\n",
       "<p>4202 rows × 4 columns</p>\n",
       "</div>"
      ],
      "text/plain": [
       "                                    title create_time  \\\n",
       "0        保罗过去5年最炸的过人都在这里了！小打大教科书，喜欢看他打球吗？  2020-05-14   \n",
       "1                       快到看不清！这波操作我可以看5遍！  2020-05-14   \n",
       "2                        初代欧洲魔术师？他打球太华丽了！  2020-05-14   \n",
       "3                       巅峰麦迪对飚乔丹，这比赛有点好看！  2020-05-14   \n",
       "4                      血布的防守什么水平？这切球太犀利了！  2020-05-14   \n",
       "...                                   ...         ...   \n",
       "4197             也许是你不知道的过人高手，个人超喜欢的矮个控位！  2017-06-29   \n",
       "4198  最纯粹的篮球，Jaythan Bosch叫板Julian Newman  2017-06-28   \n",
       "4199               现场看NBA是什么感觉？这个视频会给你答案。  2016-02-13   \n",
       "4200                       欧文风骚转身合集，看湿了吗?  2016-01-19   \n",
       "4201                        看不够！科比生涯百大表演。  2015-12-26   \n",
       "\n",
       "                                                   link variable  \n",
       "0     http://mp.weixin.qq.com/s?__biz=MzI2NDAzOTAzMA...       过人  \n",
       "1     http://mp.weixin.qq.com/s?__biz=MzI2NDAzOTAzMA...     无法分类  \n",
       "2     http://mp.weixin.qq.com/s?__biz=MzI2NDAzOTAzMA...     无法分类  \n",
       "3     http://mp.weixin.qq.com/s?__biz=MzI2NDAzOTAzMA...     无法分类  \n",
       "4     http://mp.weixin.qq.com/s?__biz=MzI2NDAzOTAzMA...     无法分类  \n",
       "...                                                 ...      ...  \n",
       "4197  http://mp.weixin.qq.com/s?__biz=MzI2NDAzOTAzMA...       过人  \n",
       "4198  http://mp.weixin.qq.com/s?__biz=MzI2NDAzOTAzMA...       篮球  \n",
       "4199  http://mp.weixin.qq.com/s?__biz=MzI2NDAzOTAzMA...     无法分类  \n",
       "4200  http://mp.weixin.qq.com/s?__biz=MzI2NDAzOTAzMA...     无法分类  \n",
       "4201  http://mp.weixin.qq.com/s?__biz=MzI2NDAzOTAzMA...       科比  \n",
       "\n",
       "[4202 rows x 4 columns]"
      ]
     },
     "execution_count": 73,
     "metadata": {},
     "output_type": "execute_result"
    }
   ],
   "source": [
    "df_o = df_url_out.join(df_cat).replace(\"\", np.nan).fillna(\"无法分类\")\n",
    "df_o"
   ]
  },
  {
   "cell_type": "code",
   "execution_count": 74,
   "metadata": {},
   "outputs": [
    {
     "data": {
      "text/html": [
       "<div>\n",
       "<style scoped>\n",
       "    .dataframe tbody tr th:only-of-type {\n",
       "        vertical-align: middle;\n",
       "    }\n",
       "\n",
       "    .dataframe tbody tr th {\n",
       "        vertical-align: top;\n",
       "    }\n",
       "\n",
       "    .dataframe thead th {\n",
       "        text-align: right;\n",
       "    }\n",
       "</style>\n",
       "<table border=\"1\" class=\"dataframe\">\n",
       "  <thead>\n",
       "    <tr style=\"text-align: right;\">\n",
       "      <th></th>\n",
       "      <th>title</th>\n",
       "      <th>create_time</th>\n",
       "      <th>link</th>\n",
       "      <th>variable</th>\n",
       "    </tr>\n",
       "  </thead>\n",
       "  <tbody>\n",
       "    <tr>\n",
       "      <th>51</th>\n",
       "      <td>巅峰乔丹大战19岁科比，合砍69分，这比赛太好看了！</td>\n",
       "      <td>2020-05-04</td>\n",
       "      <td>http://mp.weixin.qq.com/s?__biz=MzI2NDAzOTAzMA...</td>\n",
       "      <td>科比</td>\n",
       "    </tr>\n",
       "    <tr>\n",
       "      <th>177</th>\n",
       "      <td>【录像回放】2007年，科比是这样砍下65分的！</td>\n",
       "      <td>2020-04-09</td>\n",
       "      <td>http://mp.weixin.qq.com/s?__biz=MzI2NDAzOTAzMA...</td>\n",
       "      <td>科比</td>\n",
       "    </tr>\n",
       "    <tr>\n",
       "      <th>220</th>\n",
       "      <td>15年前的科比是怎么打球的？6次50+，27次40+，根本防不住！</td>\n",
       "      <td>2020-03-30</td>\n",
       "      <td>http://mp.weixin.qq.com/s?__biz=MzI2NDAzOTAzMA...</td>\n",
       "      <td>科比</td>\n",
       "    </tr>\n",
       "    <tr>\n",
       "      <th>432</th>\n",
       "      <td>恭喜卡哇伊！拿到第一座科比-布莱恩特杯！</td>\n",
       "      <td>2020-02-17</td>\n",
       "      <td>http://mp.weixin.qq.com/s?__biz=MzI2NDAzOTAzMA...</td>\n",
       "      <td>科比</td>\n",
       "    </tr>\n",
       "    <tr>\n",
       "      <th>441</th>\n",
       "      <td>定制版球鞋致敬科比！特雷杨今天的战靴太帅了！</td>\n",
       "      <td>2020-02-15</td>\n",
       "      <td>http://mp.weixin.qq.com/s?__biz=MzI2NDAzOTAzMA...</td>\n",
       "      <td>科比</td>\n",
       "    </tr>\n",
       "    <tr>\n",
       "      <th>...</th>\n",
       "      <td>...</td>\n",
       "      <td>...</td>\n",
       "      <td>...</td>\n",
       "      <td>...</td>\n",
       "    </tr>\n",
       "    <tr>\n",
       "      <th>4072</th>\n",
       "      <td>你知道灰熊队也有个科比吗？</td>\n",
       "      <td>2017-10-25</td>\n",
       "      <td>http://mp.weixin.qq.com/s?__biz=MzI2NDAzOTAzMA...</td>\n",
       "      <td>科比</td>\n",
       "    </tr>\n",
       "    <tr>\n",
       "      <th>4113</th>\n",
       "      <td>28岁的“中国艾弗森”宣布退役，他晃得过科比却晃不过伤病。</td>\n",
       "      <td>2017-09-19</td>\n",
       "      <td>http://mp.weixin.qq.com/s?__biz=MzI2NDAzOTAzMA...</td>\n",
       "      <td>科比</td>\n",
       "    </tr>\n",
       "    <tr>\n",
       "      <th>4133</th>\n",
       "      <td>资源分享 | 科比华丽脚步集锦第二弹</td>\n",
       "      <td>2017-08-24</td>\n",
       "      <td>http://mp.weixin.qq.com/s?__biz=MzI2NDAzOTAzMA...</td>\n",
       "      <td>科比</td>\n",
       "    </tr>\n",
       "    <tr>\n",
       "      <th>4146</th>\n",
       "      <td>资源分享 | 科比华丽脚步集锦</td>\n",
       "      <td>2017-08-15</td>\n",
       "      <td>http://mp.weixin.qq.com/s?__biz=MzI2NDAzOTAzMA...</td>\n",
       "      <td>科比</td>\n",
       "    </tr>\n",
       "    <tr>\n",
       "      <th>4201</th>\n",
       "      <td>看不够！科比生涯百大表演。</td>\n",
       "      <td>2015-12-26</td>\n",
       "      <td>http://mp.weixin.qq.com/s?__biz=MzI2NDAzOTAzMA...</td>\n",
       "      <td>科比</td>\n",
       "    </tr>\n",
       "  </tbody>\n",
       "</table>\n",
       "<p>109 rows × 4 columns</p>\n",
       "</div>"
      ],
      "text/plain": [
       "                                  title create_time  \\\n",
       "51           巅峰乔丹大战19岁科比，合砍69分，这比赛太好看了！  2020-05-04   \n",
       "177            【录像回放】2007年，科比是这样砍下65分的！  2020-04-09   \n",
       "220   15年前的科比是怎么打球的？6次50+，27次40+，根本防不住！  2020-03-30   \n",
       "432                恭喜卡哇伊！拿到第一座科比-布莱恩特杯！  2020-02-17   \n",
       "441              定制版球鞋致敬科比！特雷杨今天的战靴太帅了！  2020-02-15   \n",
       "...                                 ...         ...   \n",
       "4072                      你知道灰熊队也有个科比吗？  2017-10-25   \n",
       "4113      28岁的“中国艾弗森”宣布退役，他晃得过科比却晃不过伤病。  2017-09-19   \n",
       "4133                 资源分享 | 科比华丽脚步集锦第二弹  2017-08-24   \n",
       "4146                    资源分享 | 科比华丽脚步集锦  2017-08-15   \n",
       "4201                      看不够！科比生涯百大表演。  2015-12-26   \n",
       "\n",
       "                                                   link variable  \n",
       "51    http://mp.weixin.qq.com/s?__biz=MzI2NDAzOTAzMA...       科比  \n",
       "177   http://mp.weixin.qq.com/s?__biz=MzI2NDAzOTAzMA...       科比  \n",
       "220   http://mp.weixin.qq.com/s?__biz=MzI2NDAzOTAzMA...       科比  \n",
       "432   http://mp.weixin.qq.com/s?__biz=MzI2NDAzOTAzMA...       科比  \n",
       "441   http://mp.weixin.qq.com/s?__biz=MzI2NDAzOTAzMA...       科比  \n",
       "...                                                 ...      ...  \n",
       "4072  http://mp.weixin.qq.com/s?__biz=MzI2NDAzOTAzMA...       科比  \n",
       "4113  http://mp.weixin.qq.com/s?__biz=MzI2NDAzOTAzMA...       科比  \n",
       "4133  http://mp.weixin.qq.com/s?__biz=MzI2NDAzOTAzMA...       科比  \n",
       "4146  http://mp.weixin.qq.com/s?__biz=MzI2NDAzOTAzMA...       科比  \n",
       "4201  http://mp.weixin.qq.com/s?__biz=MzI2NDAzOTAzMA...       科比  \n",
       "\n",
       "[109 rows x 4 columns]"
      ]
     },
     "execution_count": 74,
     "metadata": {},
     "output_type": "execute_result"
    }
   ],
   "source": [
    "# 列举有关科比的文章\n",
    "df_o[df_o.title.str.contains(\"科比\")]"
   ]
  },
  {
   "cell_type": "code",
   "execution_count": 75,
   "metadata": {},
   "outputs": [
    {
     "data": {
      "text/html": [
       "<div>\n",
       "<style scoped>\n",
       "    .dataframe tbody tr th:only-of-type {\n",
       "        vertical-align: middle;\n",
       "    }\n",
       "\n",
       "    .dataframe tbody tr th {\n",
       "        vertical-align: top;\n",
       "    }\n",
       "\n",
       "    .dataframe thead th {\n",
       "        text-align: right;\n",
       "    }\n",
       "</style>\n",
       "<table border=\"1\" class=\"dataframe\">\n",
       "  <thead>\n",
       "    <tr style=\"text-align: right;\">\n",
       "      <th></th>\n",
       "      <th>title</th>\n",
       "    </tr>\n",
       "    <tr>\n",
       "      <th>variable</th>\n",
       "      <th></th>\n",
       "    </tr>\n",
       "  </thead>\n",
       "  <tbody>\n",
       "    <tr>\n",
       "      <th>无法分类</th>\n",
       "      <td>3209</td>\n",
       "    </tr>\n",
       "    <tr>\n",
       "      <th>过人</th>\n",
       "      <td>299</td>\n",
       "    </tr>\n",
       "    <tr>\n",
       "      <th>科比</th>\n",
       "      <td>100</td>\n",
       "    </tr>\n",
       "    <tr>\n",
       "      <th>篮球</th>\n",
       "      <td>95</td>\n",
       "    </tr>\n",
       "    <tr>\n",
       "      <th>库里</th>\n",
       "      <td>65</td>\n",
       "    </tr>\n",
       "    <tr>\n",
       "      <th>哈登</th>\n",
       "      <td>62</td>\n",
       "    </tr>\n",
       "    <tr>\n",
       "      <th>詹姆斯</th>\n",
       "      <td>57</td>\n",
       "    </tr>\n",
       "    <tr>\n",
       "      <th>杜兰特</th>\n",
       "      <td>45</td>\n",
       "    </tr>\n",
       "    <tr>\n",
       "      <th>技巧</th>\n",
       "      <td>43</td>\n",
       "    </tr>\n",
       "    <tr>\n",
       "      <th>字母哥</th>\n",
       "      <td>31</td>\n",
       "    </tr>\n",
       "    <tr>\n",
       "      <th>明星</th>\n",
       "      <td>31</td>\n",
       "    </tr>\n",
       "    <tr>\n",
       "      <th>选秀</th>\n",
       "      <td>24</td>\n",
       "    </tr>\n",
       "    <tr>\n",
       "      <th>纽约</th>\n",
       "      <td>21</td>\n",
       "    </tr>\n",
       "    <tr>\n",
       "      <th>状元</th>\n",
       "      <td>17</td>\n",
       "    </tr>\n",
       "    <tr>\n",
       "      <th>照片</th>\n",
       "      <td>11</td>\n",
       "    </tr>\n",
       "    <tr>\n",
       "      <th>未来</th>\n",
       "      <td>11</td>\n",
       "    </tr>\n",
       "    <tr>\n",
       "      <th>世界杯</th>\n",
       "      <td>10</td>\n",
       "    </tr>\n",
       "    <tr>\n",
       "      <th>总决赛</th>\n",
       "      <td>10</td>\n",
       "    </tr>\n",
       "    <tr>\n",
       "      <th>加盟</th>\n",
       "      <td>9</td>\n",
       "    </tr>\n",
       "    <tr>\n",
       "      <th>总冠军</th>\n",
       "      <td>7</td>\n",
       "    </tr>\n",
       "    <tr>\n",
       "      <th>易建联</th>\n",
       "      <td>7</td>\n",
       "    </tr>\n",
       "    <tr>\n",
       "      <th>女友</th>\n",
       "      <td>7</td>\n",
       "    </tr>\n",
       "    <tr>\n",
       "      <th>洛杉矶</th>\n",
       "      <td>6</td>\n",
       "    </tr>\n",
       "    <tr>\n",
       "      <th>城市</th>\n",
       "      <td>5</td>\n",
       "    </tr>\n",
       "    <tr>\n",
       "      <th>小时</th>\n",
       "      <td>4</td>\n",
       "    </tr>\n",
       "    <tr>\n",
       "      <th>图片</th>\n",
       "      <td>3</td>\n",
       "    </tr>\n",
       "    <tr>\n",
       "      <th>新冠肺炎</th>\n",
       "      <td>2</td>\n",
       "    </tr>\n",
       "    <tr>\n",
       "      <th>国人</th>\n",
       "      <td>2</td>\n",
       "    </tr>\n",
       "    <tr>\n",
       "      <th>只有一</th>\n",
       "      <td>2</td>\n",
       "    </tr>\n",
       "    <tr>\n",
       "      <th>新规</th>\n",
       "      <td>1</td>\n",
       "    </tr>\n",
       "    <tr>\n",
       "      <th>武汉</th>\n",
       "      <td>1</td>\n",
       "    </tr>\n",
       "    <tr>\n",
       "      <th>最佳第六人</th>\n",
       "      <td>1</td>\n",
       "    </tr>\n",
       "    <tr>\n",
       "      <th>数据</th>\n",
       "      <td>1</td>\n",
       "    </tr>\n",
       "    <tr>\n",
       "      <th>家乡</th>\n",
       "      <td>1</td>\n",
       "    </tr>\n",
       "    <tr>\n",
       "      <th>听说</th>\n",
       "      <td>1</td>\n",
       "    </tr>\n",
       "    <tr>\n",
       "      <th>金州</th>\n",
       "      <td>1</td>\n",
       "    </tr>\n",
       "  </tbody>\n",
       "</table>\n",
       "</div>"
      ],
      "text/plain": [
       "          title\n",
       "variable       \n",
       "无法分类       3209\n",
       "过人          299\n",
       "科比          100\n",
       "篮球           95\n",
       "库里           65\n",
       "哈登           62\n",
       "詹姆斯          57\n",
       "杜兰特          45\n",
       "技巧           43\n",
       "字母哥          31\n",
       "明星           31\n",
       "选秀           24\n",
       "纽约           21\n",
       "状元           17\n",
       "照片           11\n",
       "未来           11\n",
       "世界杯          10\n",
       "总决赛          10\n",
       "加盟            9\n",
       "总冠军           7\n",
       "易建联           7\n",
       "女友            7\n",
       "洛杉矶           6\n",
       "城市            5\n",
       "小时            4\n",
       "图片            3\n",
       "新冠肺炎          2\n",
       "国人            2\n",
       "只有一           2\n",
       "新规            1\n",
       "武汉            1\n",
       "最佳第六人         1\n",
       "数据            1\n",
       "家乡            1\n",
       "听说            1\n",
       "金州            1"
      ]
     },
     "execution_count": 75,
     "metadata": {},
     "output_type": "execute_result"
    }
   ],
   "source": [
    "df_stats = df_o.groupby(by=\"variable\").agg({\"title\":\"count\"}).sort_values(by=\"title\", ascending=False)\n",
    "df_stats"
   ]
  },
  {
   "cell_type": "markdown",
   "metadata": {},
   "source": [
    "## 输出"
   ]
  },
  {
   "cell_type": "code",
   "execution_count": 76,
   "metadata": {},
   "outputs": [],
   "source": [
    "df_account.columns.name = \"rel_accounts\"\n",
    "df_o.columns.name = \"url_cat\"\n",
    "df_stats.columns.name = \"stats\"\n"
   ]
  },
  {
   "cell_type": "code",
   "execution_count": 77,
   "metadata": {},
   "outputs": [],
   "source": [
    "_df_.columns.name"
   ]
  },
  {
   "cell_type": "code",
   "execution_count": 78,
   "metadata": {},
   "outputs": [],
   "source": [
    "# Get the xlsxwriter workbook and worksheet objects.  \n",
    "with pd.ExcelWriter(fn[\"output\"][\"公众号_xlsx\"].format(公众号=公众号)) as writer:\n",
    "    workbook  = writer.book\n",
    "\n",
    "    for _df_ in [df_account, df_o, df_stats]:\n",
    "        _df_.to_excel(writer, sheet_name = _df_.columns.name)\n"
   ]
  },
  {
   "cell_type": "code",
   "execution_count": null,
   "metadata": {},
   "outputs": [],
   "source": []
  }
 ],
 "metadata": {
  "kernelspec": {
   "display_name": "Python 3",
   "language": "python",
   "name": "python3"
  },
  "language_info": {
   "codemirror_mode": {
    "name": "ipython",
    "version": 3
   },
   "file_extension": ".py",
   "mimetype": "text/x-python",
   "name": "python",
   "nbconvert_exporter": "python",
   "pygments_lexer": "ipython3",
   "version": "3.7.7"
  },
  "toc": {
   "base_numbering": 1,
   "nav_menu": {},
   "number_sections": true,
   "sideBar": true,
   "skip_h1_title": false,
   "title_cell": "Table of Contents",
   "title_sidebar": "Contents",
   "toc_cell": false,
   "toc_position": {},
   "toc_section_display": true,
   "toc_window_display": false
  }
 },
 "nbformat": 4,
 "nbformat_minor": 4
}
