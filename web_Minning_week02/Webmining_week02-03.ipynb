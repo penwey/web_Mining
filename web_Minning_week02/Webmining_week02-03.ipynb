{
 "cells": [
  {
   "cell_type": "markdown",
   "metadata": {},
   "source": [
    " Web Mining (爬虫) 规范性的概念：使用代码模拟用户，批量的发送网络请求（request-data），批量的获取数据（response-data）\n",
    " * 课前思考\n",
    "     * http: 当用户在地址输入了网址，发送请求的过程是什么？（思考，类似Flask）http协议/规则（前修课程：http和https图解）\n",
    "     * http的请求方式有哪几种？\n",
    "     * get： 优势：便捷。 缺点：明文，不安全，参数长度有限制\n",
    "     * post：优势：安全，加密，数据长度没有限制\n",
    "     \n",
    "     * 还记得上节课的“状态狗”练习么？那么请思考下面两个问题：\n",
    "     * requests_html到底需要先准备什么？\n",
    "     * 网页的 “HTTP状态狗 = 树.xpath(\"/html/body/main/div/div/a/img\")  # 当成片语/成语记下来, html物件树，有方法xpath抽数据出来”中提到的xpath是啥？\n",
    "     \n",
    "\n",
    "# 20春_Web数据挖掘\n",
    "# 项目2 by 许智超, 廖汉腾\n",
    "\n",
    "# 本周主要内容：requests模块\n",
    "\n",
    "* 来源:[英文官方文档](https://2.python-requests.org/en/master/)\n",
    "* 来源:[中文官方文档](http://cn.python-requests.org/zh_CN/latest/)\n",
    "\n",
    "\n",
    "# 本周学习目标（5、7、8）：  \n",
    "\n",
    "* parse html \n",
    "* xpath 文档\n",
    "* 设置目标网站url，获取页面中标题信息（title、date、link）\n",
    "\n",
    "* 下周学习目标（6）"
   ]
  },
  {
   "cell_type": "code",
   "execution_count": null,
   "metadata": {},
   "outputs": [],
   "source": [
    "%%html\n",
    "<style>\n",
    "/* 本电子讲义使用之CSS */\n",
    "div.code_cell {\n",
    "    background-color: #e5f1fe;\n",
    "}\n",
    "div.cell.selected {\n",
    "    background-color: #effee2;\n",
    "    font-size: 2rem;\n",
    "    line-height: 2.4rem;\n",
    "}\n",
    "div.cell.selected .rendered_html table {\n",
    "    font-size: 2rem !important;\n",
    "    line-height: 2.4rem !important;\n",
    "}\n",
    ".rendered_html pre code {\n",
    "    background-color: #C4E4ff;   \n",
    "    padding: 2px 25px;\n",
    "}\n",
    ".rendered_html pre {\n",
    "    background-color: #99c9ff;\n",
    "}\n",
    "div.code_cell .CodeMirror {\n",
    "    font-size: 2rem !important;\n",
    "    line-height: 2.4rem !important;\n",
    "}\n",
    ".rendered_html img, .rendered_html svg {\n",
    "    max-width: 45%;\n",
    "    height: auto;\n",
    "    float: right;\n",
    "}\n",
    "/* Gradient transparent - color - transparent */\n",
    "hr {\n",
    "    border: 0;\n",
    "    border-bottom: 1px dashed #ccc;\n",
    "}\n",
    ".emoticon{\n",
    "    font-size: 5rem;\n",
    "    line-height: 4.4rem;\n",
    "    text-align: center;\n",
    "    vertical-align: middle;\n",
    "}\n",
    "</style>"
   ]
  },
  {
   "cell_type": "markdown",
   "metadata": {},
   "source": [
    "# xpath\n",
    "\n",
    "* [xpath教程](https://www.w3school.com.cn/xpath/index.asp)\n",
    "\n",
    "* xpath是一门在XML文档中查找信息的 语言\n",
    "\n",
    "* 节点\n",
    "    * 元素、属性、文本、命名空间、文档（根）结点\n",
    "* 节点关系\n",
    "    * 父（parent）\n",
    "    * 子（children）\n",
    "    * 同胞（sibling）\n",
    "    * 先辈（ancestor）\n",
    "    * 后代（descendant）"
   ]
  },
  {
   "cell_type": "code",
   "execution_count": 1,
   "metadata": {
    "scrolled": true
   },
   "outputs": [
    {
     "name": "stdout",
     "output_type": "stream",
     "text": [
      "Requirement already satisfied: requests_file in c:\\programdata\\anaconda3\\lib\\site-packages (1.4.3)\n",
      "Requirement already satisfied: six in c:\\programdata\\anaconda3\\lib\\site-packages (from requests_file) (1.14.0)\n",
      "Requirement already satisfied: requests>=1.0.0 in c:\\programdata\\anaconda3\\lib\\site-packages (from requests_file) (2.23.0)\n",
      "Requirement already satisfied: idna<3,>=2.5 in c:\\programdata\\anaconda3\\lib\\site-packages (from requests>=1.0.0->requests_file) (2.9)\n",
      "Requirement already satisfied: certifi>=2017.4.17 in c:\\programdata\\anaconda3\\lib\\site-packages (from requests>=1.0.0->requests_file) (2019.11.28)\n",
      "Requirement already satisfied: urllib3!=1.25.0,!=1.25.1,<1.26,>=1.21.1 in c:\\programdata\\anaconda3\\lib\\site-packages (from requests>=1.0.0->requests_file) (1.25.8)\n",
      "Requirement already satisfied: chardet<4,>=3.0.2 in c:\\programdata\\anaconda3\\lib\\site-packages (from requests>=1.0.0->requests_file) (3.0.4)\n"
     ]
    }
   ],
   "source": [
    "!pip install requests_file"
   ]
  },
  {
   "cell_type": "markdown",
   "metadata": {},
   "source": [
    "html_doc = \"\"\"\n",
    "<html><head><title>The Dormouse's story</title></head>\n",
    "<body>\n",
    "<p class=\"title\"><b>The Dormouse's story</b></p>\n",
    "\n",
    "<p class=\"story\">Once upon a time there were three little sisters; and their names were\n",
    "<a href=\"http://example.com/elsie\" class=\"sister\" id=\"link1\">Elsie</a>,\n",
    "<a href=\"http://example.com/lacie\" class=\"sister\" id=\"link2\">Lacie</a> and\n",
    "<a href=\"http://example.com/tillie\" class=\"sister\" id=\"link3\">Tillie</a>;\n",
    "and they lived at the bottom of a well.</p>\n",
    "\n",
    "<p class=\"story\">...</p>\n",
    "\"\"\""
   ]
  },
  {
   "cell_type": "code",
   "execution_count": 2,
   "metadata": {},
   "outputs": [
    {
     "data": {
      "text/plain": [
       "[]"
      ]
     },
     "execution_count": 2,
     "metadata": {},
     "output_type": "execute_result"
    }
   ],
   "source": [
    "# xpath \n",
    "from requests_html import HTMLSession\n",
    "from requests_file import FileAdapter\n",
    "\n",
    "session = HTMLSession()\n",
    "session.mount('file:///Users/xuzhichao/Desktop/2020下学期课程/许智超课程/_Web数据挖掘/_week02_/html_doc.html', FileAdapter())\n",
    "html_obj = session.get(f'file:///Users/xuzhichao/Desktop/2020下学期课程/许智超课程/_Web数据挖掘/_week02_/html_doc.html')\n",
    "\n",
    "selector = html_obj.html.xpath('//p[@class=\"story\"]/a/@href')\n",
    "# 注意：selector的数据类型\n",
    "selector"
   ]
  },
  {
   "cell_type": "code",
   "execution_count": 3,
   "metadata": {},
   "outputs": [
    {
     "name": "stdout",
     "output_type": "stream",
     "text": [
      "[]\n"
     ]
    }
   ],
   "source": [
    "print(html_obj.html.xpath('/html/head'))"
   ]
  },
  {
   "cell_type": "code",
   "execution_count": 5,
   "metadata": {},
   "outputs": [],
   "source": [
    "### 使用模块\n",
    "import pandas as pd\n",
    "from requests_html import HTMLSession\n",
    "\n",
    "payload = {\n",
    "    \"keyword\":\"文学与传媒学院\",\n",
    "    \"p\":\"1\"\n",
    "}\n",
    "\n",
    "session = HTMLSession()\n",
    "r = session.get(\"http://www.nfu.edu.cn/index.php/home/article/search.html\", params=payload)\n",
    "\n"
   ]
  },
  {
   "cell_type": "code",
   "execution_count": 6,
   "metadata": {},
   "outputs": [],
   "source": [
    "# 取出中大南方搜索文学与传媒学院的标题\n",
    "# r.html.xpath('//*[@class=\"news_title\"]//a/@title')"
   ]
  },
  {
   "cell_type": "code",
   "execution_count": 7,
   "metadata": {},
   "outputs": [],
   "source": [
    "# 练习（找同学回答）\n",
    "# 1、取出中大南方搜索文学与传媒学院的日期\n",
    "# 2、取出中大南方搜索文学与传媒学院的标题链接"
   ]
  },
  {
   "cell_type": "code",
   "execution_count": null,
   "metadata": {},
   "outputs": [],
   "source": []
  },
  {
   "cell_type": "markdown",
   "metadata": {},
   "source": [
    "# requests 获取页面信息\n",
    "* 网络页面的数据\n",
    "    * JSON\n",
    "    * HTML\n",
    "-----------------------\n",
    "\n",
    "* 分清信息传递的你我它\n",
    "    * Request 是你 \n",
    "    * Resopnse 是它\n",
    "-----------------------\n",
    "\n",
    "* 可爱的 http://httpbin.org/ ，测试的首选\n",
    "\n",
    " "
   ]
  },
  {
   "cell_type": "markdown",
   "metadata": {},
   "source": [
    "## Requests GET方法"
   ]
  },
  {
   "cell_type": "code",
   "execution_count": 8,
   "metadata": {
    "scrolled": true
   },
   "outputs": [
    {
     "name": "stdout",
     "output_type": "stream",
     "text": [
      "<Response [200]>\n",
      "<!DOCTYPE html>\r\n",
      "<!--STATUS OK--><html> <head><meta http-equiv=content-type content=text/html;charset=utf-8><meta http-equiv=X-UA-Compatible content=IE=Edge><meta content=always name=referrer><link rel=stylesheet type=text/css href=http://s1.bdstatic.com/r/www/cache/bdorz/baidu.min.css><title>百度一下，你就知道</title></head> <body link=#0000cc> <div id=wrapper> <div id=head> <div class=head_wrapper> <div class=s_form> <div class=s_form_wrapper> <div id=lg> <img hidefocus=true src=//www.baidu.com/img/bd_logo1.png width=270 height=129> </div> <form id=form name=f action=//www.baidu.com/s class=fm> <input type=hidden name=bdorz_come value=1> <input type=hidden name=ie value=utf-8> <input type=hidden name=f value=8> <input type=hidden name=rsv_bp value=1> <input type=hidden name=rsv_idx value=1> <input type=hidden name=tn value=baidu><span class=\"bg s_ipt_wr\"><input id=kw name=wd class=s_ipt value maxlength=255 autocomplete=off autofocus></span><span class=\"bg s_btn_wr\"><input type=submit id=su value=百度一下 class=\"bg s_btn\"></span> </form> </div> </div> <div id=u1> <a href=http://news.baidu.com name=tj_trnews class=mnav>新闻</a> <a href=http://www.hao123.com name=tj_trhao123 class=mnav>hao123</a> <a href=http://map.baidu.com name=tj_trmap class=mnav>地图</a> <a href=http://v.baidu.com name=tj_trvideo class=mnav>视频</a> <a href=http://tieba.baidu.com name=tj_trtieba class=mnav>贴吧</a> <noscript> <a href=http://www.baidu.com/bdorz/login.gif?login&amp;tpl=mn&amp;u=http%3A%2F%2Fwww.baidu.com%2f%3fbdorz_come%3d1 name=tj_login class=lb>登录</a> </noscript> <script>document.write('<a href=\"http://www.baidu.com/bdorz/login.gif?login&tpl=mn&u='+ encodeURIComponent(window.location.href+ (window.location.search === \"\" ? \"?\" : \"&\")+ \"bdorz_come=1\")+ '\" name=\"tj_login\" class=\"lb\">登录</a>');</script> <a href=//www.baidu.com/more/ name=tj_briicon class=bri style=\"display: block;\">更多产品</a> </div> </div> </div> <div id=ftCon> <div id=ftConw> <p id=lh> <a href=http://home.baidu.com>关于百度</a> <a href=http://ir.baidu.com>About Baidu</a> </p> <p id=cp>&copy;2017&nbsp;Baidu&nbsp;<a href=http://www.baidu.com/duty/>使用百度前必读</a>&nbsp; <a href=http://jianyi.baidu.com/ class=cp-feedback>意见反馈</a>&nbsp;京ICP证030173号&nbsp; <img src=//www.baidu.com/img/gs.gif> </p> </div> </div> </div> </body> </html>\r\n",
      "\n",
      "<!DOCTYPE html>\r\n",
      "<!--STATUS OK--><html> <head><meta http-equiv=content-type content=text/html;charset=utf-8><meta http-equiv=X-UA-Compatible content=IE=Edge><meta content=always name=referrer><link rel=stylesheet type=text/css href=http://s1.bdstatic.com/r/www/cache/bdorz/baidu.min.css><title>ç¾åº¦ä¸ä¸ï¼ä½ å°±ç¥é</title></head> <body link=#0000cc> <div id=wrapper> <div id=head> <div class=head_wrapper> <div class=s_form> <div class=s_form_wrapper> <div id=lg> <img hidefocus=true src=//www.baidu.com/img/bd_logo1.png width=270 height=129> </div> <form id=form name=f action=//www.baidu.com/s class=fm> <input type=hidden name=bdorz_come value=1> <input type=hidden name=ie value=utf-8> <input type=hidden name=f value=8> <input type=hidden name=rsv_bp value=1> <input type=hidden name=rsv_idx value=1> <input type=hidden name=tn value=baidu><span class=\"bg s_ipt_wr\"><input id=kw name=wd class=s_ipt value maxlength=255 autocomplete=off autofocus></span><span class=\"bg s_btn_wr\"><input type=submit id=su value=ç¾åº¦ä¸ä¸ class=\"bg s_btn\"></span> </form> </div> </div> <div id=u1> <a href=http://news.baidu.com name=tj_trnews class=mnav>æ°é»</a> <a href=http://www.hao123.com name=tj_trhao123 class=mnav>hao123</a> <a href=http://map.baidu.com name=tj_trmap class=mnav>å°å¾</a> <a href=http://v.baidu.com name=tj_trvideo class=mnav>è§é¢</a> <a href=http://tieba.baidu.com name=tj_trtieba class=mnav>è´´å§</a> <noscript> <a href=http://www.baidu.com/bdorz/login.gif?login&amp;tpl=mn&amp;u=http%3A%2F%2Fwww.baidu.com%2f%3fbdorz_come%3d1 name=tj_login class=lb>ç»å½</a> </noscript> <script>document.write('<a href=\"http://www.baidu.com/bdorz/login.gif?login&tpl=mn&u='+ encodeURIComponent(window.location.href+ (window.location.search === \"\" ? \"?\" : \"&\")+ \"bdorz_come=1\")+ '\" name=\"tj_login\" class=\"lb\">ç»å½</a>');</script> <a href=//www.baidu.com/more/ name=tj_briicon class=bri style=\"display: block;\">æ´å¤äº§å</a> </div> </div> </div> <div id=ftCon> <div id=ftConw> <p id=lh> <a href=http://home.baidu.com>å",
      "³äºç¾åº¦</a> <a href=http://ir.baidu.com>About Baidu</a> </p> <p id=cp>&copy;2017&nbsp;Baidu&nbsp;<a href=http://www.baidu.com/duty/>ä½¿ç¨ç¾åº¦åå¿",
      "è¯»</a>&nbsp; <a href=http://jianyi.baidu.com/ class=cp-feedback>æè§åé¦</a>&nbsp;äº¬ICPè¯030173å·&nbsp; <img src=//www.baidu.com/img/gs.gif> </p> </div> </div> </div> </body> </html>\r\n",
      "\n"
     ]
    }
   ],
   "source": [
    "# 1.记得安装 第三方 模块 requests\n",
    "# pip install requests\n",
    "\n",
    "# GET请求\n",
    "import requests\n",
    "\n",
    "# url = 'http://httpbin.org/get'\n",
    "\n",
    "url = \"https://baidu.com\"\n",
    "\n",
    "# content 属性 返回的类型 是bytes\n",
    "resopnse = requests.get(url)\n",
    "# decode 转换\n",
    "data = resopnse.content.decode('utf-8')\n",
    "\n",
    "# text 属性 返回的类型是str，猜测编码。优先使用content\n",
    "text = resopnse.text\n",
    "\n",
    "print(resopnse)\n",
    "print(data)\n",
    "print(text)"
   ]
  },
  {
   "cell_type": "code",
   "execution_count": 9,
   "metadata": {},
   "outputs": [
    {
     "data": {
      "text/plain": [
       "{'args': {'a': '1', 'b': '2'},\n",
       " 'headers': {'Accept': '*/*',\n",
       "  'Accept-Encoding': 'gzip, deflate',\n",
       "  'Host': 'httpbin.org',\n",
       "  'User-Agent': 'python-requests/2.23.0',\n",
       "  'X-Amzn-Trace-Id': 'Root=1-5e8d75fb-4c23d480996dde703a59f720'},\n",
       " 'origin': '14.209.106.140',\n",
       " 'url': 'http://httpbin.org/get?a=1&b=2'}"
      ]
     },
     "execution_count": 9,
     "metadata": {},
     "output_type": "execute_result"
    }
   ],
   "source": [
    "# 带参数的get请求\n",
    "r2 = requests.get(\"http://httpbin.org/get\",params = {'a':'1','b':'2'}) \n",
    "r2.json()\n",
    "\n"
   ]
  },
  {
   "cell_type": "markdown",
   "metadata": {},
   "source": [
    "## 让headers成为习惯"
   ]
  },
  {
   "cell_type": "code",
   "execution_count": 10,
   "metadata": {},
   "outputs": [
    {
     "name": "stdout",
     "output_type": "stream",
     "text": [
      "{'User-Agent': 'python-requests/2.23.0', 'Accept-Encoding': 'gzip, deflate', 'Accept': '*/*', 'Connection': 'keep-alive'}\n",
      "{'User-Agent': 'Mozilla/5.0 (Macintosh; Intel Mac OS X 10_13_6) AppleWebKit/605.1.15 (KHTML, like Gecko) Version/13.0.5 Safari/605.1.15', 'Accept-Encoding': 'gzip, deflate', 'Accept': '*/*', 'Connection': 'keep-alive'}\n"
     ]
    }
   ],
   "source": [
    "# 我们的requests 请求带着重要的'User-Agent'信息，也成为反爬的第一关注点\n",
    "#让headers请求成为习惯习惯\n",
    "print(r2.request.headers)\n",
    "headers = {\n",
    "    'User-Agent':\"Mozilla/5.0 (Macintosh; Intel Mac OS X 10_13_6) AppleWebKit/605.1.15 (KHTML, like Gecko) Version/13.0.5 Safari/605.1.15\"\n",
    "}\n",
    "r3 = requests.get(\"http://httpbin.org/get\",headers=headers,params = {'a':'1','b':'2'}) \n",
    "print(r3.request.headers)"
   ]
  },
  {
   "cell_type": "code",
   "execution_count": 11,
   "metadata": {},
   "outputs": [],
   "source": [
    "# 带参数的get请求 例子：搜索浏览器搜索python\n",
    "import requests\n",
    "\n",
    "# url = \"https://cn.bing.com/search?p=python\"\n",
    "url = \"https://cn.bing.com/search?\"\n",
    "headers = {\n",
    "    'User-Agent': \"Mozilla/5.0 (Macintosh; Intel Mac OS X 10_13_6) AppleWebKit/537.36 (KHTML, like Gecko) Chrome/80.0.3987.132 Safari/537.36\"\n",
    "}\n",
    "\n",
    "response = requests.get(url,headers=headers,params={\"q\":\"python\"})\n",
    "\n",
    "data = response.content.decode()\n",
    "\n",
    "with open(\"bing.html\",'w') as f:\n",
    "    f.write(data)"
   ]
  },
  {
   "cell_type": "markdown",
   "metadata": {},
   "source": [
    "## 展示：微信公众号的页面参数传递\n",
    "\n",
    "### 练习 ：中大南方网站带参数获取页面（GET方法）/或者其他的网站\n"
   ]
  },
  {
   "cell_type": "markdown",
   "metadata": {},
   "source": [
    "## Request POST 方法"
   ]
  },
  {
   "cell_type": "code",
   "execution_count": null,
   "metadata": {},
   "outputs": [],
   "source": [
    "# POST请求\n",
    "r3 = requests.post(\"http://httpbin.org/post\", data ={'a':'1'})\n",
    "r3.json()"
   ]
  },
  {
   "cell_type": "markdown",
   "metadata": {},
   "source": [
    "## *附加1: 带cookies请求 （get方法）\n",
    "\n",
    "* 请先查看浏览器 Response Headers中的参数有那些？"
   ]
  },
  {
   "cell_type": "code",
   "execution_count": null,
   "metadata": {},
   "outputs": [],
   "source": [
    "cookies = dict(userid = '123456', token='78901234')\n",
    "# 请注意下面的cookies = cookies 我们传入的是字典噢～后面我们还会遇到\n",
    "r_cookies = requests.get(\"http://httpbin.org/cookies\",cookies=cookies)\n",
    "r_cookies.text"
   ]
  },
  {
   "cell_type": "markdown",
   "metadata": {},
   "source": [
    "## *附加2: 带basic-auth请求 （get方法）"
   ]
  },
  {
   "cell_type": "code",
   "execution_count": null,
   "metadata": {},
   "outputs": [],
   "source": [
    "auth = ('zhichao','123456')\n",
    "r_auth = requests.get(\"http://httpbin.org/basic-auth/zhichao/123456\",auth=auth)\n",
    "r_auth.json()"
   ]
  },
  {
   "cell_type": "markdown",
   "metadata": {},
   "source": [
    "## *附加3: status-code 还记得你们之前背的401、402、403、404么？\n"
   ]
  },
  {
   "cell_type": "markdown",
   "metadata": {},
   "source": [
    "curl -I http://httpbin.org/status/404"
   ]
  },
  {
   "cell_type": "markdown",
   "metadata": {},
   "source": [
    "#  chorme查看 Hearders，里面有哪些内容？\n",
    "\n",
    "* General\n",
    "* Response Headers\n",
    "* Requests Headers\n",
    "* Query String Parameters\n"
   ]
  },
  {
   "cell_type": "code",
   "execution_count": null,
   "metadata": {},
   "outputs": [],
   "source": [
    "import requests\n",
    "\n",
    "class RequestSpider(object):\n",
    "    def __init__(self):\n",
    "\n",
    "        url = 'http://baidu.com'\n",
    "        headers = {\n",
    "            'User-Agent': \"Mozilla/5.0 (Macintosh; Intel Mac OS X 10_13_6) AppleWebKit/537.36 (KHTML, like Gecko) Chrome/80.0.3987.132 Safari/537.36\"\n",
    "        }\n",
    "        self.response = requests.get(url,headers=headers)\n",
    "\n",
    "    def run(self):\n",
    "        data = self.response.content\n",
    "        \n",
    "        # 1.获取下请求头\n",
    "        request_headers = self.response.request.headers\n",
    "        print(\"# 1.获取下请求头\")\n",
    "        print(request_headers)\n",
    "        print(\"-\"*50)\n",
    "\n",
    "        # 2.获取响应头\n",
    "        rseponse_headers = self.response.headers\n",
    "        print(\"# 2.获取响应头\")\n",
    "        print(rseponse_headers)\n",
    "        print(\"-\"*50)\n",
    "\n",
    "        # 3.获取状态码 ,大家还记得状态码么？找个同学问下。\n",
    "        code = self.response.status_code\n",
    "        print(\" 3.获取状态码\")\n",
    "        print(code)\n",
    "        print(\"-\"*50)\n",
    "        headers = {\n",
    "            'User-Agent': \"Mozilla/5.0 (Macintosh; Intel Mac OS X 10_13_6) AppleWebKit/537.36 (KHTML, like Gecko) Chrome/80.0.3987.132 Safari/537.36\"\n",
    "\n",
    "        }\n",
    "\n",
    "        # 4.请求的cookie\n",
    "        request_cookie = self.response.request._cookies\n",
    "        print(request_cookie)\n",
    "        print(\"-\"*50)\n",
    "\n",
    "        # 5.响应的cookie\n",
    "        response_cookie = self.response.cookies\n",
    "        print(response_cookie)\n",
    "        print(\"-\"*50)\n",
    "        \n",
    "RequestSpider().run()"
   ]
  },
  {
   "cell_type": "code",
   "execution_count": null,
   "metadata": {},
   "outputs": [],
   "source": [
    "# 自动转译\n",
    "import requests\n",
    "\n",
    "url = \"https://cn.bing.com/search?\"\n",
    "headers = {\n",
    "    'User-Agent': \"Mozilla/5.0 (Macintosh; Intel Mac OS X 10_13_6) AppleWebKit/537.36 (KHTML, like Gecko) Chrome/80.0.3987.132 Safari/537.36\"\n",
    "}\n",
    "\n",
    "response = requests.get(url,headers=headers,data={\"q\":\"python\"})\n",
    "\n",
    "data = response.content.decode()\n",
    "\n",
    "with open('bing.html', 'w') as f:\n",
    "    f.write(data)\n",
    "\n"
   ]
  },
  {
   "cell_type": "code",
   "execution_count": null,
   "metadata": {},
   "outputs": [],
   "source": [
    "\n",
    "# json 数据传递的用法\n",
    "import requests\n",
    "import json\n",
    "\n",
    "url = 'https://api.github.com/user'\n",
    "headers = {\n",
    "    'User-Agent': \"Mozilla/5.0 (Macintosh; Intel Mac OS X 10_13_6) AppleWebKit/537.36 (KHTML, like Gecko) Chrome/80.0.3987.132 Safari/537.36\"\n",
    "}\n",
    "# 这个网站不是html 而是json\n",
    "\n",
    "response = requests.get(url,headers=headers)\n",
    "\n",
    "# data = response.content.decode()\n",
    "# # data 是str\n",
    "# data_dict = json.loads(data)\n",
    "# print(type(data))\n",
    "# print(data)\n",
    "# print(data_dict)\n",
    "\n",
    "# response.json方法\n",
    "data = response.json()\n",
    "print(data)\n",
    "print(type(data))"
   ]
  },
  {
   "cell_type": "markdown",
   "metadata": {},
   "source": [
    "# 案例基础练习：中大南方网站内搜索“文传学院”的一页标题、链接、日期\n",
    "## 提升：练习获取所有页的标题、链接、日期\n",
    "## 拔高：获取所有页的链接页面的内容"
   ]
  },
  {
   "cell_type": "code",
   "execution_count": 12,
   "metadata": {},
   "outputs": [
    {
     "data": {
      "text/html": [
       "<div>\n",
       "<style scoped>\n",
       "    .dataframe tbody tr th:only-of-type {\n",
       "        vertical-align: middle;\n",
       "    }\n",
       "\n",
       "    .dataframe tbody tr th {\n",
       "        vertical-align: top;\n",
       "    }\n",
       "\n",
       "    .dataframe thead th {\n",
       "        text-align: right;\n",
       "    }\n",
       "</style>\n",
       "<table border=\"1\" class=\"dataframe\">\n",
       "  <thead>\n",
       "    <tr style=\"text-align: right;\">\n",
       "      <th></th>\n",
       "      <th>title</th>\n",
       "      <th>date</th>\n",
       "      <th>link</th>\n",
       "    </tr>\n",
       "  </thead>\n",
       "  <tbody>\n",
       "    <tr>\n",
       "      <th>0</th>\n",
       "      <td>文学与传媒学院教师获邀参加2020年U40中澳暑期工作营及国际学术研讨会</td>\n",
       "      <td>2020-01-06</td>\n",
       "      <td>/index.php/home/article/search_detail/id/6363....</td>\n",
       "    </tr>\n",
       "    <tr>\n",
       "      <th>1</th>\n",
       "      <td>文学与传媒学院2019年学术研讨会暨总结大会顺利召开</td>\n",
       "      <td>2020-01-06</td>\n",
       "      <td>/index.php/home/article/search_detail/id/6366....</td>\n",
       "    </tr>\n",
       "    <tr>\n",
       "      <th>2</th>\n",
       "      <td>展现当代青年的迷惘与奋进——我校文学与传媒学院大型原创舞台剧《春至》圆满落幕</td>\n",
       "      <td>2019-12-20</td>\n",
       "      <td>/index.php/home/article/search_detail/id/6318....</td>\n",
       "    </tr>\n",
       "    <tr>\n",
       "      <th>3</th>\n",
       "      <td>文学与传媒学院考研座谈暨2020年考研交流答疑会圆满结束</td>\n",
       "      <td>2019-11-22</td>\n",
       "      <td>/index.php/home/article/search_detail/id/6154....</td>\n",
       "    </tr>\n",
       "    <tr>\n",
       "      <th>4</th>\n",
       "      <td>创意无限，未来可期——文学与传媒学院青马工程第四讲暨闭营仪式顺利举行</td>\n",
       "      <td>2019-11-04</td>\n",
       "      <td>/index.php/home/article/search_detail/id/6016....</td>\n",
       "    </tr>\n",
       "    <tr>\n",
       "      <th>5</th>\n",
       "      <td>垃圾分类我先行——文学与传媒学院“分门别类，谁与争锋”垃圾分类趣味知识竞赛决赛顺利举行</td>\n",
       "      <td>2019-11-04</td>\n",
       "      <td>/index.php/home/article/search_detail/id/6019....</td>\n",
       "    </tr>\n",
       "    <tr>\n",
       "      <th>6</th>\n",
       "      <td>以梦为马，不负韶华——文学与传媒学院2019级新生开学典礼圆满结束</td>\n",
       "      <td>2019-09-16</td>\n",
       "      <td>/index.php/home/article/search_detail/id/5794....</td>\n",
       "    </tr>\n",
       "    <tr>\n",
       "      <th>7</th>\n",
       "      <td>文学与传媒学院学子在全国高校数字艺术设计大赛中斩获大奖</td>\n",
       "      <td>2019-09-09</td>\n",
       "      <td>/index.php/home/article/search_detail/id/5776....</td>\n",
       "    </tr>\n",
       "    <tr>\n",
       "      <th>8</th>\n",
       "      <td>文学与传媒学院学子在第七届中国大学生公共关系策划大赛中喜获佳绩</td>\n",
       "      <td>2019-09-09</td>\n",
       "      <td>/index.php/home/article/search_detail/id/5777....</td>\n",
       "    </tr>\n",
       "    <tr>\n",
       "      <th>9</th>\n",
       "      <td>倾心之作，致敬经典——文学与传媒学院紫阳戏剧社《倾城之恋》话剧展演圆满落幕</td>\n",
       "      <td>2019-06-24</td>\n",
       "      <td>/index.php/home/article/search_detail/id/5642....</td>\n",
       "    </tr>\n",
       "    <tr>\n",
       "      <th>10</th>\n",
       "      <td>毕业季 | 今朝有离别，青春不散场 ——文学与传媒学院2019届毕业生毕业季系列活动有序开展</td>\n",
       "      <td>2019-06-24</td>\n",
       "      <td>/index.php/home/article/search_detail/id/5647....</td>\n",
       "    </tr>\n",
       "    <tr>\n",
       "      <th>11</th>\n",
       "      <td>对话校友，嘉木成林——文学与传媒学院校友访谈会顺利举办</td>\n",
       "      <td>2019-06-24</td>\n",
       "      <td>/index.php/home/article/search_detail/id/5648....</td>\n",
       "    </tr>\n",
       "  </tbody>\n",
       "</table>\n",
       "</div>"
      ],
      "text/plain": [
       "                                             title        date  \\\n",
       "0             文学与传媒学院教师获邀参加2020年U40中澳暑期工作营及国际学术研讨会  2020-01-06   \n",
       "1                       文学与传媒学院2019年学术研讨会暨总结大会顺利召开  2020-01-06   \n",
       "2           展现当代青年的迷惘与奋进——我校文学与传媒学院大型原创舞台剧《春至》圆满落幕  2019-12-20   \n",
       "3                     文学与传媒学院考研座谈暨2020年考研交流答疑会圆满结束  2019-11-22   \n",
       "4               创意无限，未来可期——文学与传媒学院青马工程第四讲暨闭营仪式顺利举行  2019-11-04   \n",
       "5      垃圾分类我先行——文学与传媒学院“分门别类，谁与争锋”垃圾分类趣味知识竞赛决赛顺利举行  2019-11-04   \n",
       "6                以梦为马，不负韶华——文学与传媒学院2019级新生开学典礼圆满结束  2019-09-16   \n",
       "7                      文学与传媒学院学子在全国高校数字艺术设计大赛中斩获大奖  2019-09-09   \n",
       "8                  文学与传媒学院学子在第七届中国大学生公共关系策划大赛中喜获佳绩  2019-09-09   \n",
       "9            倾心之作，致敬经典——文学与传媒学院紫阳戏剧社《倾城之恋》话剧展演圆满落幕  2019-06-24   \n",
       "10  毕业季 | 今朝有离别，青春不散场 ——文学与传媒学院2019届毕业生毕业季系列活动有序开展  2019-06-24   \n",
       "11                     对话校友，嘉木成林——文学与传媒学院校友访谈会顺利举办  2019-06-24   \n",
       "\n",
       "                                                 link  \n",
       "0   /index.php/home/article/search_detail/id/6363....  \n",
       "1   /index.php/home/article/search_detail/id/6366....  \n",
       "2   /index.php/home/article/search_detail/id/6318....  \n",
       "3   /index.php/home/article/search_detail/id/6154....  \n",
       "4   /index.php/home/article/search_detail/id/6016....  \n",
       "5   /index.php/home/article/search_detail/id/6019....  \n",
       "6   /index.php/home/article/search_detail/id/5794....  \n",
       "7   /index.php/home/article/search_detail/id/5776....  \n",
       "8   /index.php/home/article/search_detail/id/5777....  \n",
       "9   /index.php/home/article/search_detail/id/5642....  \n",
       "10  /index.php/home/article/search_detail/id/5647....  \n",
       "11  /index.php/home/article/search_detail/id/5648....  "
      ]
     },
     "execution_count": 12,
     "metadata": {},
     "output_type": "execute_result"
    }
   ],
   "source": [
    "### 使用模块\n",
    "import pandas as pd\n",
    "from requests_html import HTMLSession\n",
    "\n",
    "payload = {\n",
    "    \"keyword\":\"文学与传媒学院\",\n",
    "    \"p\":\"1\"\n",
    "}\n",
    "\n",
    "session = HTMLSession()\n",
    "r = session.get(\"http://www.nfu.edu.cn/index.php/home/article/search.html\", params=payload)\n",
    "\n",
    "# 从主页挖出 章标题\n",
    "df= pd.DataFrame( {\n",
    "    \"title\": r.html.xpath('//*[@class=\"news_title\"]//a/@title'),\n",
    "    \"date\": r.html.xpath('//*[@class=\"right-more\"]/text()'),\n",
    "    \"link\": r.html.xpath('//*[@class=\"news_title\"]//a/@href')\n",
    "    } )\n",
    "\n",
    "df    "
   ]
  },
  {
   "cell_type": "code",
   "execution_count": 13,
   "metadata": {},
   "outputs": [
    {
     "data": {
      "text/html": [
       "<div>\n",
       "<style scoped>\n",
       "    .dataframe tbody tr th:only-of-type {\n",
       "        vertical-align: middle;\n",
       "    }\n",
       "\n",
       "    .dataframe tbody tr th {\n",
       "        vertical-align: top;\n",
       "    }\n",
       "\n",
       "    .dataframe thead th {\n",
       "        text-align: right;\n",
       "    }\n",
       "</style>\n",
       "<table border=\"1\" class=\"dataframe\">\n",
       "  <thead>\n",
       "    <tr style=\"text-align: right;\">\n",
       "      <th></th>\n",
       "      <th>title</th>\n",
       "      <th>date</th>\n",
       "      <th>link</th>\n",
       "    </tr>\n",
       "  </thead>\n",
       "  <tbody>\n",
       "    <tr>\n",
       "      <th>0</th>\n",
       "      <td>文学与传媒学院教师获邀参加2020年U40中澳暑期工作营及国际学术研讨会</td>\n",
       "      <td>2020-01-06</td>\n",
       "      <td>/index.php/home/article/search_detail/id/6363....</td>\n",
       "    </tr>\n",
       "    <tr>\n",
       "      <th>1</th>\n",
       "      <td>文学与传媒学院2019年学术研讨会暨总结大会顺利召开</td>\n",
       "      <td>2020-01-06</td>\n",
       "      <td>/index.php/home/article/search_detail/id/6366....</td>\n",
       "    </tr>\n",
       "    <tr>\n",
       "      <th>2</th>\n",
       "      <td>展现当代青年的迷惘与奋进——我校文学与传媒学院大型原创舞台剧《春至》圆满落幕</td>\n",
       "      <td>2019-12-20</td>\n",
       "      <td>/index.php/home/article/search_detail/id/6318....</td>\n",
       "    </tr>\n",
       "    <tr>\n",
       "      <th>3</th>\n",
       "      <td>文学与传媒学院考研座谈暨2020年考研交流答疑会圆满结束</td>\n",
       "      <td>2019-11-22</td>\n",
       "      <td>/index.php/home/article/search_detail/id/6154....</td>\n",
       "    </tr>\n",
       "    <tr>\n",
       "      <th>4</th>\n",
       "      <td>创意无限，未来可期——文学与传媒学院青马工程第四讲暨闭营仪式顺利举行</td>\n",
       "      <td>2019-11-04</td>\n",
       "      <td>/index.php/home/article/search_detail/id/6016....</td>\n",
       "    </tr>\n",
       "    <tr>\n",
       "      <th>5</th>\n",
       "      <td>垃圾分类我先行——文学与传媒学院“分门别类，谁与争锋”垃圾分类趣味知识竞赛决赛顺利举行</td>\n",
       "      <td>2019-11-04</td>\n",
       "      <td>/index.php/home/article/search_detail/id/6019....</td>\n",
       "    </tr>\n",
       "    <tr>\n",
       "      <th>6</th>\n",
       "      <td>以梦为马，不负韶华——文学与传媒学院2019级新生开学典礼圆满结束</td>\n",
       "      <td>2019-09-16</td>\n",
       "      <td>/index.php/home/article/search_detail/id/5794....</td>\n",
       "    </tr>\n",
       "    <tr>\n",
       "      <th>7</th>\n",
       "      <td>文学与传媒学院学子在全国高校数字艺术设计大赛中斩获大奖</td>\n",
       "      <td>2019-09-09</td>\n",
       "      <td>/index.php/home/article/search_detail/id/5776....</td>\n",
       "    </tr>\n",
       "    <tr>\n",
       "      <th>8</th>\n",
       "      <td>文学与传媒学院学子在第七届中国大学生公共关系策划大赛中喜获佳绩</td>\n",
       "      <td>2019-09-09</td>\n",
       "      <td>/index.php/home/article/search_detail/id/5777....</td>\n",
       "    </tr>\n",
       "    <tr>\n",
       "      <th>9</th>\n",
       "      <td>倾心之作，致敬经典——文学与传媒学院紫阳戏剧社《倾城之恋》话剧展演圆满落幕</td>\n",
       "      <td>2019-06-24</td>\n",
       "      <td>/index.php/home/article/search_detail/id/5642....</td>\n",
       "    </tr>\n",
       "    <tr>\n",
       "      <th>10</th>\n",
       "      <td>毕业季 | 今朝有离别，青春不散场 ——文学与传媒学院2019届毕业生毕业季系列活动有序开展</td>\n",
       "      <td>2019-06-24</td>\n",
       "      <td>/index.php/home/article/search_detail/id/5647....</td>\n",
       "    </tr>\n",
       "    <tr>\n",
       "      <th>11</th>\n",
       "      <td>对话校友，嘉木成林——文学与传媒学院校友访谈会顺利举办</td>\n",
       "      <td>2019-06-24</td>\n",
       "      <td>/index.php/home/article/search_detail/id/5648....</td>\n",
       "    </tr>\n",
       "  </tbody>\n",
       "</table>\n",
       "</div>"
      ],
      "text/plain": [
       "                                             title        date  \\\n",
       "0             文学与传媒学院教师获邀参加2020年U40中澳暑期工作营及国际学术研讨会  2020-01-06   \n",
       "1                       文学与传媒学院2019年学术研讨会暨总结大会顺利召开  2020-01-06   \n",
       "2           展现当代青年的迷惘与奋进——我校文学与传媒学院大型原创舞台剧《春至》圆满落幕  2019-12-20   \n",
       "3                     文学与传媒学院考研座谈暨2020年考研交流答疑会圆满结束  2019-11-22   \n",
       "4               创意无限，未来可期——文学与传媒学院青马工程第四讲暨闭营仪式顺利举行  2019-11-04   \n",
       "5      垃圾分类我先行——文学与传媒学院“分门别类，谁与争锋”垃圾分类趣味知识竞赛决赛顺利举行  2019-11-04   \n",
       "6                以梦为马，不负韶华——文学与传媒学院2019级新生开学典礼圆满结束  2019-09-16   \n",
       "7                      文学与传媒学院学子在全国高校数字艺术设计大赛中斩获大奖  2019-09-09   \n",
       "8                  文学与传媒学院学子在第七届中国大学生公共关系策划大赛中喜获佳绩  2019-09-09   \n",
       "9            倾心之作，致敬经典——文学与传媒学院紫阳戏剧社《倾城之恋》话剧展演圆满落幕  2019-06-24   \n",
       "10  毕业季 | 今朝有离别，青春不散场 ——文学与传媒学院2019届毕业生毕业季系列活动有序开展  2019-06-24   \n",
       "11                     对话校友，嘉木成林——文学与传媒学院校友访谈会顺利举办  2019-06-24   \n",
       "\n",
       "                                                 link  \n",
       "0   /index.php/home/article/search_detail/id/6363....  \n",
       "1   /index.php/home/article/search_detail/id/6366....  \n",
       "2   /index.php/home/article/search_detail/id/6318....  \n",
       "3   /index.php/home/article/search_detail/id/6154....  \n",
       "4   /index.php/home/article/search_detail/id/6016....  \n",
       "5   /index.php/home/article/search_detail/id/6019....  \n",
       "6   /index.php/home/article/search_detail/id/5794....  \n",
       "7   /index.php/home/article/search_detail/id/5776....  \n",
       "8   /index.php/home/article/search_detail/id/5777....  \n",
       "9   /index.php/home/article/search_detail/id/5642....  \n",
       "10  /index.php/home/article/search_detail/id/5647....  \n",
       "11  /index.php/home/article/search_detail/id/5648....  "
      ]
     },
     "execution_count": 13,
     "metadata": {},
     "output_type": "execute_result"
    }
   ],
   "source": [
    "from lxml import etree\n",
    "import pandas as pd\n",
    "\n",
    "\n",
    "url_nfu_article = \"http://www.nfu.edu.cn/index.php/home/article/search.html\"\n",
    "\n",
    "headers = {\n",
    "     'User-Agent': \"Mozilla/5.0 (Macintosh; Intel Mac OS X 10_13_6) AppleWebKit/537.36 (KHTML, like Gecko) Chrome/80.0.3987.132 Safari/537.36\"\n",
    "}\n",
    "data = {\n",
    "    \"keyword\":\"文学与传媒学院\",\n",
    "    \"p\":\"1\"\n",
    "}\n",
    "\n",
    "content_list = []\n",
    "\n",
    "data[\"p\"] = 1\n",
    "\n",
    "\n",
    "response_nfu = requests.get(url_nfu_article, headers=headers, params=data)\n",
    "\n",
    "html_str = response_nfu.content.decode()\n",
    "# print(html_str)\n",
    "html = etree.HTML(html_str)\n",
    "\n",
    "items = {}\n",
    "items[\"title\"] = html.xpath(\"//*[@class=\\\"news_title\\\"]//a/@title\")\n",
    "items[\"date\"] = html.xpath(\"//*[@class=\\\"right-more\\\"]/text()\")\n",
    "items[\"link\"] = html.xpath(\"//*[@class=\\\"news_title\\\"]//a/@href\")\n",
    "content_list.append(items)\n",
    "\n",
    "\n",
    "df = pd.DataFrame(content_list[0])\n",
    "df"
   ]
  },
  {
   "cell_type": "markdown",
   "metadata": {},
   "source": [
    "# 用户登录 （下周提前预告）"
   ]
  },
  {
   "cell_type": "code",
   "execution_count": 14,
   "metadata": {},
   "outputs": [
    {
     "name": "stdout",
     "output_type": "stream",
     "text": [
      "{'acw_tc': '2f624a2a15840160875311695e6d7e27994af827775b34fed9d55cba726de9', ' PHPSESSID': 'vaasotsfptlms3gq68oh6mhd82', ' _ga': 'GA1.1.1324687667.1584016181', ' _gid': 'GA1.2.1663074566.1584178938', ' _gat': '1', ' Hm_lpvt_65968db3ac154c3089d7f9a4cbb98c94': '1584178941', ' yaozh_logintime': '1584178949', ' yaozh_user': '891498%09xzhichao', ' yaozh_userId': '891498', ' yaozh_jobstatus': 'kptta67UcJieW6zKnFSe2JyXnoaZcJZpnpyHnKZxanJT1qeSoMZYoNdzb5taqt3Ny8TMxdBZoKifnZ%2BDn5iorJDVop6Yg3HYnmpnm1pjmJ2dc0b8310b0ddC98d22483bB3Ce53b7a3WkZWclGudV6DXn5VtWamhnsZbbKabZ5ieW2iWcGaUnJqamZSUZ5pXoOE%3D034cf6fc2b2e2e0f6305655401292eef', ' db_w_auth': '758331%09xzhichao', ' yaozh_uidhas': '1', ' yaozh_mylogin': '1584178952', ' acw_tc': '2f624a2a15840160875311695e6d7e27994af827775b34fed9d55cba726de9', ' Hm_lvt_65968db3ac154c3089d7f9a4cbb98c94': '1584016089%2C1584178939'}\n"
     ]
    },
    {
     "ename": "UnicodeEncodeError",
     "evalue": "'gbk' codec can't encode character '\\xa0' in position 19533: illegal multibyte sequence",
     "output_type": "error",
     "traceback": [
      "\u001b[1;31m---------------------------------------------------------------------------\u001b[0m",
      "\u001b[1;31mUnicodeEncodeError\u001b[0m                        Traceback (most recent call last)",
      "\u001b[1;32m<ipython-input-14-03302d7c0fa6>\u001b[0m in \u001b[0;36m<module>\u001b[1;34m\u001b[0m\n\u001b[0;32m     49\u001b[0m \u001b[1;33m\u001b[0m\u001b[0m\n\u001b[0;32m     50\u001b[0m \u001b[1;32mwith\u001b[0m \u001b[0mopen\u001b[0m\u001b[1;33m(\u001b[0m\u001b[1;34m'cookie.html'\u001b[0m\u001b[1;33m,\u001b[0m\u001b[1;34m'w'\u001b[0m\u001b[1;33m)\u001b[0m \u001b[1;32mas\u001b[0m \u001b[0mf\u001b[0m\u001b[1;33m:\u001b[0m\u001b[1;33m\u001b[0m\u001b[1;33m\u001b[0m\u001b[0m\n\u001b[1;32m---> 51\u001b[1;33m     \u001b[0mf\u001b[0m\u001b[1;33m.\u001b[0m\u001b[0mwrite\u001b[0m\u001b[1;33m(\u001b[0m\u001b[0mdata\u001b[0m\u001b[1;33m)\u001b[0m\u001b[1;33m\u001b[0m\u001b[1;33m\u001b[0m\u001b[0m\n\u001b[0m",
      "\u001b[1;31mUnicodeEncodeError\u001b[0m: 'gbk' codec can't encode character '\\xa0' in position 19533: illegal multibyte sequence"
     ]
    }
   ],
   "source": [
    "# cookie 用户的简单登录\n",
    "import requests\n",
    "\n",
    "# 请求数据的url\n",
    "\n",
    "member_url = \"https://www.yaozh.com/member/\"\n",
    "headers = {\n",
    "    'User-Agent': \"Mozilla/5.0 (Macintosh; Intel Mac OS X 10_13_6) AppleWebKit/537.36 (KHTML, like Gecko) Chrome/80.0.3987.132 Safari/537.36\"\n",
    "}\n",
    "cookies = \"acw_tc=2f624a2a15840160875311695e6d7e27994af827775b34fed9d55cba726de9; PHPSESSID=vaasotsfptlms3gq68oh6mhd82; _ga=GA1.1.1324687667.1584016181; _gid=GA1.2.1663074566.1584178938; _gat=1; Hm_lpvt_65968db3ac154c3089d7f9a4cbb98c94=1584178941; yaozh_logintime=1584178949; yaozh_user=891498%09xzhichao; yaozh_userId=891498; yaozh_jobstatus=kptta67UcJieW6zKnFSe2JyXnoaZcJZpnpyHnKZxanJT1qeSoMZYoNdzb5taqt3Ny8TMxdBZoKifnZ%2BDn5iorJDVop6Yg3HYnmpnm1pjmJ2dc0b8310b0ddC98d22483bB3Ce53b7a3WkZWclGudV6DXn5VtWamhnsZbbKabZ5ieW2iWcGaUnJqamZSUZ5pXoOE%3D034cf6fc2b2e2e0f6305655401292eef; db_w_auth=758331%09xzhichao; yaozh_uidhas=1; yaozh_mylogin=1584178952; acw_tc=2f624a2a15840160875311695e6d7e27994af827775b34fed9d55cba726de9; _ga=GA1.1.1324687667.1584016181; Hm_lvt_65968db3ac154c3089d7f9a4cbb98c94=1584016089%2C1584178939\"\n",
    "\n",
    "# cookies: (optional) **Dict or **CookieJar object to send with the :class:`Request`\n",
    "# cookies 目前是字符串\n",
    "# 需要字典类型\n",
    "\n",
    "# 方法1 正则匹配将cookie转化为字典（或者全部替换）\n",
    "# (.*)=(.*)\n",
    "# \"\\1\":\"\\2\",\n",
    "cook_dict = {\n",
    "    \"acw_tc\":\"2f624a2a15840160875311695e6d7e27994af827775b34fed9d55cba726de9;\",\n",
    "    \"PHPSESSID\":\"vaasotsfptlms3gq68oh6mhd82;\",\n",
    "    \"_ga\":\"GA1.1.1324687667.1584016181;\",\n",
    "    \"_gid\":\"GA1.2.1663074566.1584178938;\",\n",
    "    \"_gat\":\"1;\",\n",
    "    \"Hm_lpvt_65968db3ac154c3089d7f9a4cbb98c94\":\"1584178941;\",\n",
    "    \"yaozh_logintime\":\"1584178949;\",\n",
    "    \"yaozh_user\":\"891498%09xzhichao;\",\n",
    "    \"yaozh_userId\":\"891498;\",\n",
    "    \"yaozh_jobstatus\":\"kptta67UcJieW6zKnFSe2JyXnoaZcJZpnpyHnKZxanJT1qeSoMZYoNdzb5taqt3Ny8TMxdBZoKifnZ%2BDn5iorJDVop6Yg3HYnmpnm1pjmJ2dc0b8310b0ddC98d22483bB3Ce53b7a3WkZWclGudV6DXn5VtWamhnsZbbKabZ5ieW2iWcGaUnJqamZSUZ5pXoOE%3D034cf6fc2b2e2e0f6305655401292eef;\",\n",
    "    \"db_w_auth\":\"758331%09xzhichao;\",\n",
    "    \"yaozh_uidhas\":\"1;\",\n",
    "    \"yaozh_mylogin\":\"1584178952;\",\n",
    "    \"acw_tc\":\"2f624a2a15840160875311695e6d7e27994af827775b34fed9d55cba726de9;\",\n",
    "    \"_ga\":\"GA1.1.1324687667.1584016181;\",\n",
    "    \"Hm_lvt_65968db3ac154c3089d7f9a4cbb98c94\":\"1584016089%2C1584178939\",\n",
    "}\n",
    "\n",
    "# 方法2\n",
    "cook_dict2 = {}\n",
    "cook_list = cookies.split(\";\")\n",
    "for cookie in cook_list:\n",
    "    cook_dict2[cookie.split(\"=\")[0]] =  cookie.split(\"=\")[1]\n",
    "\n",
    "print(cook_dict2)\n",
    "\n",
    "response = requests.get(member_url,headers=headers,cookies=cook_dict2)\n",
    "\n",
    "data = response.content.decode()\n",
    "\n",
    "with open('cookie.html','w') as f:\n",
    "    f.write(data)"
   ]
  },
  {
   "cell_type": "code",
   "execution_count": null,
   "metadata": {},
   "outputs": [],
   "source": []
  }
 ],
 "metadata": {
  "kernelspec": {
   "display_name": "Python 3",
   "language": "python",
   "name": "python3"
  },
  "language_info": {
   "codemirror_mode": {
    "name": "ipython",
    "version": 3
   },
   "file_extension": ".py",
   "mimetype": "text/x-python",
   "name": "python",
   "nbconvert_exporter": "python",
   "pygments_lexer": "ipython3",
   "version": "3.7.7"
  },
  "toc": {
   "base_numbering": 1,
   "nav_menu": {},
   "number_sections": true,
   "sideBar": true,
   "skip_h1_title": false,
   "title_cell": "Table of Contents",
   "title_sidebar": "Contents",
   "toc_cell": false,
   "toc_position": {
    "height": "749px",
    "left": "1125.609375px",
    "top": "110px",
    "width": "281.390625px"
   },
   "toc_section_display": true,
   "toc_window_display": false
  }
 },
 "nbformat": 4,
 "nbformat_minor": 2
}
